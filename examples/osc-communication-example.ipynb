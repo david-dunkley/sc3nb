{
 "cells": [
  {
   "cell_type": "code",
   "execution_count": null,
   "metadata": {},
   "outputs": [],
   "source": [
    "import time\n",
    "import numpy as np"
   ]
  },
  {
   "cell_type": "code",
   "execution_count": null,
   "metadata": {},
   "outputs": [],
   "source": [
    "import sc3nb as scn"
   ]
  },
  {
   "cell_type": "markdown",
   "metadata": {},
   "source": [
    "# OSC communication\n",
    "With the OSC communication module of sc3nb you can directly send and receive OSC packets.\n",
    "\n",
    "Open Sound Control (OSC) is a networking protocol for sound and is used by SuperCollider to communicate between sclang and scsynth. sc3nb is itself a OSC client and server. This allows sc3nb to send and receive OSC traffic.\n",
    "\n",
    "For more information on OSC and especially how Supercollider handles OSC packets please refer to the following links:\n",
    "\n",
    "* [Open Sound Control Specification](http://opensoundcontrol.org/spec-1_0)\n",
    "* [Server vs Client SuperCollider Guide](http://doc.sccode.org/Guides/ClientVsServer.html)\n",
    "* [Server Command Reference](https://doc.sccode.org/Reference/Server-Command-Reference.html)\n",
    "* [SuperCollider Synth Server Architecture](https://doc.sccode.org/Reference/Server-Architecture.html)"
   ]
  },
  {
   "cell_type": "code",
   "execution_count": null,
   "metadata": {},
   "outputs": [],
   "source": [
    "sc = scn.startup()"
   ]
  },
  {
   "cell_type": "markdown",
   "metadata": {},
   "source": [
    "sc3nb serves as OSC server and as client of the SuperCollider server `scsynth`.<br>\n",
    "You can also communicate with the SuperCollider interpreter `sclang` via OSC.<br>\n",
    "\n",
    "\n",
    "You can see the current connection information with `sc.server.connection_info()`"
   ]
  },
  {
   "cell_type": "code",
   "execution_count": null,
   "metadata": {},
   "outputs": [],
   "source": [
    "(sc3nb_ip, sc3nb_port), receivers = sc.server.connection_info()"
   ]
  },
  {
   "cell_type": "code",
   "execution_count": null,
   "metadata": {},
   "outputs": [],
   "source": [
    "(sc3nb_ip, sc3nb_port), receivers"
   ]
  },
  {
   "cell_type": "markdown",
   "metadata": {},
   "source": [
    "If you want to communicate via OSC with another receiver you could add it's name via `sc.server.add_receiver(name: str, ip: str, port: int)` or you can pass a custom receiver when sending OSC"
   ]
  },
  {
   "cell_type": "code",
   "execution_count": null,
   "metadata": {},
   "outputs": [],
   "source": [
    "sc.server.add_receiver(\"sc3nb\", sc3nb_ip, sc3nb_port)"
   ]
  },
  {
   "cell_type": "code",
   "execution_count": null,
   "metadata": {},
   "outputs": [],
   "source": [
    "sc.server.connection_info()"
   ]
  },
  {
   "cell_type": "markdown",
   "metadata": {},
   "source": [
    "## Sending OSC\n",
    "\n",
    "You can send OSC with "
   ]
  },
  {
   "cell_type": "code",
   "execution_count": null,
   "metadata": {},
   "outputs": [],
   "source": [
    "help(sc.server.send)"
   ]
  },
  {
   "cell_type": "markdown",
   "metadata": {},
   "source": [
    "### Messages\n",
    "\n",
    "Use the `OSCMessage` or the `python-osc` package to build a OscMessage"
   ]
  },
  {
   "cell_type": "code",
   "execution_count": null,
   "metadata": {},
   "outputs": [],
   "source": [
    "scn.OSCMessage?"
   ]
  },
  {
   "cell_type": "code",
   "execution_count": null,
   "metadata": {},
   "outputs": [],
   "source": [
    "msg = scn.OSCMessage(\"/s_new\", [\"s1\", -1, 1, 1,])\n",
    "sc.server.send(msg)"
   ]
  },
  {
   "cell_type": "markdown",
   "metadata": {},
   "source": [
    "A shortcut for sending Messages is"
   ]
  },
  {
   "cell_type": "code",
   "execution_count": null,
   "metadata": {},
   "outputs": [],
   "source": [
    "help(sc.server.msg)"
   ]
  },
  {
   "cell_type": "code",
   "execution_count": null,
   "metadata": {},
   "outputs": [],
   "source": [
    "sc.server.msg(\"/s_new\", [\"s1\", -1, 1, 1,])"
   ]
  },
  {
   "cell_type": "markdown",
   "metadata": {},
   "source": [
    "a more complex example"
   ]
  },
  {
   "cell_type": "code",
   "execution_count": null,
   "metadata": {
    "slideshow": {
     "slide_type": "slide"
    }
   },
   "outputs": [],
   "source": [
    "for p in [0,2,4,7,5,5,9,7,7,12,11,12,7,4,0,2,4,5,7,9,7,5,4,2,4,0,-1,0,2,-5,-1,2,5,4,2,4]:\n",
    "    freq = scn.midicps(60+p)  # see helper fns below\n",
    "    sc.server.msg(\"/s_new\", [\"s1\", -1, 1, 0, \"freq\", freq, \"dur\", 0.5, \"num\", 1])\n",
    "    time.sleep(0.15)"
   ]
  },
  {
   "cell_type": "markdown",
   "metadata": {},
   "source": [
    "**Note** that the timing is here under python's control, which is not very precise. Here comes the `Bundler` class into play."
   ]
  },
  {
   "cell_type": "markdown",
   "metadata": {},
   "source": [
    "**Remarks**:\n",
    "* note that the python code returns immediately and all events remain in scsynth\n",
    "* note that unfortunately scsynth has a limited buffer for OSC messages, so it is not viable to spawn thousends of events. scsynth will then simply reject OSC messages.\n",
    "* this motivated (and is solved) with a TimedQueue, see below."
   ]
  },
  {
   "cell_type": "markdown",
   "metadata": {},
   "source": [
    "### Bundles"
   ]
  },
  {
   "cell_type": "code",
   "execution_count": null,
   "metadata": {},
   "outputs": [],
   "source": [
    "from sc3nb.osc.osc_communication import Bundler"
   ]
  },
  {
   "cell_type": "markdown",
   "metadata": {},
   "source": [
    "To send one or multiple message(s) with a timetag as a OSC Bundle you should use the `Bundler` class\n",
    "\n",
    "* Bundlers allow to specify a timetag and thus let scsynth control the timing, which is much better, if applicable.\n",
    "* Bundler can be created by\n"
   ]
  },
  {
   "cell_type": "code",
   "execution_count": null,
   "metadata": {},
   "outputs": [],
   "source": [
    "Bundler?"
   ]
  },
  {
   "cell_type": "markdown",
   "metadata": {},
   "source": [
    "To add messages to the Bundler use "
   ]
  },
  {
   "cell_type": "markdown",
   "metadata": {},
   "source": [
    "The prefered way of creating Bundlers for sending to the server is via"
   ]
  },
  {
   "cell_type": "code",
   "execution_count": null,
   "metadata": {},
   "outputs": [],
   "source": [
    "help(sc.server.bundler)"
   ]
  },
  {
   "cell_type": "markdown",
   "metadata": {},
   "source": [
    "This will add the `sc.server.latency` time to the timetag. By default this is `0.0` but you can set it."
   ]
  },
  {
   "cell_type": "code",
   "execution_count": null,
   "metadata": {},
   "outputs": [],
   "source": [
    "sc.server.latency"
   ]
  },
  {
   "cell_type": "code",
   "execution_count": null,
   "metadata": {},
   "outputs": [],
   "source": [
    "sc.server.latency = 0.1\n",
    "sc.server.latency"
   ]
  },
  {
   "cell_type": "markdown",
   "metadata": {},
   "source": [
    "A Bundler lets you add Messages with"
   ]
  },
  {
   "cell_type": "code",
   "execution_count": null,
   "metadata": {},
   "outputs": [],
   "source": [
    "help(Bundler.add)"
   ]
  },
  {
   "cell_type": "code",
   "execution_count": null,
   "metadata": {},
   "outputs": [],
   "source": [
    "msg1 = scn.OSCMessage(\"/s_new\", [\"s2\", -1, 1, 1,])\n",
    "msg2 = scn.OSCMessage(\"/n_free\", [-1])\n",
    "sc.server.bundler().add(msg1).add(0.4, msg2).send()"
   ]
  },
  {
   "cell_type": "markdown",
   "metadata": {},
   "source": [
    "Simpler is the usage of the context manager:\n",
    "\n",
    "\n",
    "This means you can use `with` for better handling "
   ]
  },
  {
   "cell_type": "code",
   "execution_count": null,
   "metadata": {},
   "outputs": [],
   "source": [
    "with sc.server.bundler() as bundler:\n",
    "    bundler.add(0.0, msg1)\n",
    "    bundler.add(0.3, msg2)"
   ]
  },
  {
   "cell_type": "markdown",
   "metadata": {},
   "source": [
    "Here are some different styles of writing the same Sound with the Bundler features "
   ]
  },
  {
   "cell_type": "markdown",
   "metadata": {},
   "source": [
    " - server Bundler with add"
   ]
  },
  {
   "cell_type": "code",
   "execution_count": null,
   "metadata": {},
   "outputs": [],
   "source": [
    "with sc.server.bundler(send_on_exit=False) as bundler:\n",
    "    bundler.add(0.0, \"/s_new\", [\"s2\", -1, 1, 1,])\n",
    "    bundler.add(0.3, \"/n_free\", [-1])"
   ]
  },
  {
   "cell_type": "code",
   "execution_count": null,
   "metadata": {},
   "outputs": [],
   "source": [
    "dg1 = bundler.to_raw_osc(0.0)  # we set the time_offset explicitly so all Bundle datagrams are the same\n",
    "dg1"
   ]
  },
  {
   "cell_type": "markdown",
   "metadata": {},
   "source": [
    " - Bundler with explict latency set and using add"
   ]
  },
  {
   "cell_type": "code",
   "execution_count": null,
   "metadata": {},
   "outputs": [],
   "source": [
    "with Bundler(sc.server.latency, send_on_exit=False) as bundler:\n",
    "    bundler.add(0.0, \"/s_new\", [\"s2\", -1, 1, 1])\n",
    "    bundler.add(0.3, \"/n_free\", [-1])"
   ]
  },
  {
   "cell_type": "code",
   "execution_count": null,
   "metadata": {},
   "outputs": [],
   "source": [
    "dg2 = bundler.to_raw_osc(0.0)\n",
    "dg2"
   ]
  },
  {
   "cell_type": "markdown",
   "metadata": {},
   "source": [
    " - server Bundler with implicit latency and using bundled messages"
   ]
  },
  {
   "cell_type": "code",
   "execution_count": null,
   "metadata": {},
   "outputs": [],
   "source": [
    "with sc.server.bundler(send_on_exit=False) as bundler:\n",
    "    sc.server.msg(\"/s_new\", [\"s2\", -1, 1, 1,], bundle=True)\n",
    "    bundler.wait(0.3)\n",
    "    sc.server.msg(\"/n_free\", [-1], bundle=True)"
   ]
  },
  {
   "cell_type": "code",
   "execution_count": null,
   "metadata": {},
   "outputs": [],
   "source": [
    "dg3 = bundler.to_raw_osc(0.0)\n",
    "dg3"
   ]
  },
  {
   "cell_type": "code",
   "execution_count": null,
   "metadata": {},
   "outputs": [],
   "source": [
    "assert dg1 == dg2 and dg1 == dg2, \"The datagrams are not the same\""
   ]
  },
  {
   "cell_type": "markdown",
   "metadata": {},
   "source": [
    "Note that you can use the Bundler with the Synth and Group for easier Message creation.\n",
    "\n",
    "Also make sure to look at the [Automatic Bundling Feature](#Automatic-Bundling) which is using the bundled messages (`msg(..., bundle=True`)"
   ]
  },
  {
   "cell_type": "code",
   "execution_count": null,
   "metadata": {},
   "outputs": [],
   "source": [
    "t0 = time.time()\n",
    "with sc.server.bundler() as bundler:\n",
    "    for i, r in enumerate(np.random.randn(10)):\n",
    "        onset = t0 + 3 + r\n",
    "        freq = 500 + 5 * i\n",
    "        bundler.add(onset, scn.Synth(\"s1\", {\"freq\": freq, \"dur\": 1.5, \"num\": abs(r)+1}, new=False).new(return_msg=True))"
   ]
  },
  {
   "cell_type": "markdown",
   "metadata": {},
   "source": [
    "#### Bundler Timestamp\n",
    "\n",
    "small numbers are times in seconds relative to `time.time()` evaluated at the time of sending"
   ]
  },
  {
   "cell_type": "code",
   "execution_count": null,
   "metadata": {},
   "outputs": [],
   "source": [
    "sc.server.bundler(0.5, \"/s_new\", [\"s1\", -1, 1, 0, \"freq\", 200, \"dur\", 1]).send()  # a tone starts in 0.5s\n",
    "sc.server.bundler(1.0, \"/s_new\", [\"s1\", -1, 1, 0, \"freq\", 300, \"dur\", 1]).send()  # a tone starts in 1.0s"
   ]
  },
  {
   "cell_type": "markdown",
   "metadata": {},
   "source": [
    "**Attention:** \n",
    "\n",
    "Sending bundles with relative times could lead to unprecise timings.\n",
    "If you care about precise timings you should\n",
    "\n",
    "* use one bundler with multiple messages (if you care about the timings relative to each other in one Bundler)\n",
    "    * because all relative times of the inner messages are calculated on top of the outermost bundler timetag\n",
    "* or provide a explict timetag (>1e6) to specify absolute times (see next examples)\n"
   ]
  },
  {
   "cell_type": "markdown",
   "metadata": {},
   "source": [
    "One Bundler with multiple messages"
   ]
  },
  {
   "cell_type": "code",
   "execution_count": null,
   "metadata": {},
   "outputs": [],
   "source": [
    "bundler = sc.server.bundler()\n",
    "bundler.add(0.5, \"/s_new\", [\"s1\", -1, 1, 0, \"freq\", 200, \"dur\", 1])\n",
    "bundler.add(1.0, \"/s_new\", [\"s1\", -1, 1, 0, \"freq\", 300, \"dur\", 1])\n",
    "bundler.send()  # a tone starts in 1.0s"
   ]
  },
  {
   "cell_type": "markdown",
   "metadata": {},
   "source": [
    "using `time.time()+timeoffset` for absolute times"
   ]
  },
  {
   "cell_type": "code",
   "execution_count": null,
   "metadata": {},
   "outputs": [],
   "source": [
    "t0 = time.time()\n",
    "sc.server.bundler(t0 + 0.5, \"/s_new\", [\"s1\", -1, 1, 0, \"freq\", 200, \"dur\", 1]).send()  # a tone starts in 0.5s\n",
    "sc.server.bundler(t0 + 1.0, \"/s_new\", [\"s1\", -1, 1, 0, \"freq\", 300, \"dur\", 1]).send()  # a tone starts in 1.0s"
   ]
  },
  {
   "cell_type": "code",
   "execution_count": null,
   "metadata": {},
   "outputs": [],
   "source": [
    "t0 = time.time()\n",
    "with sc.server.bundler() as bundler:\n",
    "    for i, r in enumerate(np.random.randn(100)):\n",
    "        onset = t0 + 3 + r\n",
    "        freq = 500 + 5 * i\n",
    "        msg_params = [\"s1\", -1, 1, 0, \"freq\", freq, \"dur\", 1.5, \"num\", abs(r)+1]\n",
    "        bundler.add(onset, \"/s_new\", msg_params)"
   ]
  },
  {
   "cell_type": "markdown",
   "metadata": {},
   "source": [
    "#### Nesting Bundlers\n",
    "\n",
    "You can even nest bundler. This will recalculate the time relative to the sending time of the outermost bundler"
   ]
  },
  {
   "cell_type": "code",
   "execution_count": null,
   "metadata": {},
   "outputs": [],
   "source": [
    "with sc.server.bundler() as bundler_outer:\n",
    "    with sc.server.bundler() as bundler:\n",
    "        sc.server.msg(\"/s_new\", [\"s2\", 3333, 1, 1,], bundle=True)\n",
    "        bundler.wait(0.3)\n",
    "        sc.server.msg(\"/n_free\", [3333], bundle=True)\n",
    "    bundler_outer.wait(0.4)\n",
    "    bundler_outer.add(bundler)"
   ]
  },
  {
   "cell_type": "markdown",
   "metadata": {},
   "source": [
    "### Automatic Bundling"
   ]
  },
  {
   "cell_type": "markdown",
   "metadata": {},
   "source": [
    "Probably the most convenient way of sending OSC is by using the Automatic Bundling Feature.\n",
    "\n",
    "This allows you to simply use the SuperCollider Objects Synth and Group in the Context Manager of a Bundler and they will be automatically captured and stored. "
   ]
  },
  {
   "cell_type": "code",
   "execution_count": null,
   "metadata": {},
   "outputs": [],
   "source": [
    "with sc.server.bundler() as bundler:\n",
    "    synth = scn.Synth(\"s2\")\n",
    "    bundler.wait(0.3)\n",
    "    synth.set(\"freq\", 1000)\n",
    "    bundler.wait(0.1)\n",
    "    synth.free()\n",
    "synth.wait()"
   ]
  },
  {
   "cell_type": "markdown",
   "metadata": {},
   "source": [
    "**Note** that it is important that we only wait on the Synth after the context of the Bundler is closed.\n",
    "\n",
    "If you would call `synth.wait()` in the Bundler context it would wait before sending the /s_new Message to the server and then wait forever (or until timeout) for the /n_end notification."
   ]
  },
  {
   "cell_type": "code",
   "execution_count": null,
   "metadata": {},
   "outputs": [],
   "source": [
    "try:\n",
    "    with sc.server.bundler() as bundler:\n",
    "        synth = scn.Synth(\"s2\")\n",
    "        bundler.wait(0.3)\n",
    "        synth.set(\"freq\", 1000)\n",
    "        bundler.wait(0.1)\n",
    "        synth.free()\n",
    "        synth.wait(timeout=2)  # without a timeout this would hang forever\n",
    "except RuntimeError as error:\n",
    "    print(error)"
   ]
  },
  {
   "cell_type": "markdown",
   "metadata": {},
   "source": [
    "## Receiving OSC\n",
    "\n",
    "sc3nb is receiving OSC messages with the help of queues, for each OSC address where we want to receive messages there is a AddressQueue"
   ]
  },
  {
   "cell_type": "code",
   "execution_count": null,
   "metadata": {},
   "outputs": [],
   "source": [
    "sc.server.msg_queues"
   ]
  },
  {
   "cell_type": "markdown",
   "metadata": {},
   "source": [
    "To see more information what messages are send and received set the logging level to INFO as seen below."
   ]
  },
  {
   "cell_type": "code",
   "execution_count": null,
   "metadata": {},
   "outputs": [],
   "source": [
    "import logging\n",
    "logging.basicConfig(level=logging.INFO)\n",
    "# even more verbose logging is also avaible\n",
    "# logging.basicConfig(level=logging.DEBUG)"
   ]
  },
  {
   "cell_type": "markdown",
   "metadata": {},
   "source": [
    "### Getting replies"
   ]
  },
  {
   "cell_type": "markdown",
   "metadata": {},
   "source": [
    "For some outgoing Messages there is a incoming Message defined.\n",
    "\n",
    "This means sending such a message will automatically wait for the incoming Message at the corresponding Queue and return the result.\n",
    "\n",
    "An example for this is `/sync {sync_id} -> /synced {sync_id}` "
   ]
  },
  {
   "cell_type": "code",
   "execution_count": null,
   "metadata": {},
   "outputs": [],
   "source": [
    "sc.server.msg(\"/sync\", 12345)"
   ]
  },
  {
   "cell_type": "markdown",
   "metadata": {},
   "source": [
    "See all `(outgoing message, incoming message)` pairs:"
   ]
  },
  {
   "cell_type": "code",
   "execution_count": null,
   "metadata": {},
   "outputs": [],
   "source": [
    "sc.server.reply_addresses"
   ]
  },
  {
   "cell_type": "markdown",
   "metadata": {},
   "source": [
    "You can get the reply address via"
   ]
  },
  {
   "cell_type": "code",
   "execution_count": null,
   "metadata": {},
   "outputs": [],
   "source": [
    "sc.server.get_reply_address(\"/sync\")"
   ]
  },
  {
   "cell_type": "markdown",
   "metadata": {},
   "source": [
    "or"
   ]
  },
  {
   "cell_type": "code",
   "execution_count": null,
   "metadata": {},
   "outputs": [],
   "source": [
    "sc.server.reply_addresses[\"/sync\"]"
   ]
  },
  {
   "cell_type": "markdown",
   "metadata": {},
   "source": [
    "If we specify `await_reply=False` the message will be kept in the queue"
   ]
  },
  {
   "cell_type": "code",
   "execution_count": null,
   "metadata": {},
   "outputs": [],
   "source": [
    "sc.server.msg(\"/sync\", 1, await_reply=False)"
   ]
  },
  {
   "cell_type": "code",
   "execution_count": null,
   "metadata": {},
   "outputs": [],
   "source": [
    "sc.server.msg_queues[sc.server.get_reply_address(\"/sync\")]"
   ]
  },
  {
   "cell_type": "code",
   "execution_count": null,
   "metadata": {},
   "outputs": [],
   "source": [
    "sc.server.msg(\"/sync\", 2, await_reply=False)"
   ]
  },
  {
   "cell_type": "code",
   "execution_count": null,
   "metadata": {},
   "outputs": [],
   "source": [
    "sc.server.msg_queues[sc.server.reply_addresses[\"/sync\"]]"
   ]
  },
  {
   "cell_type": "code",
   "execution_count": null,
   "metadata": {},
   "outputs": [],
   "source": [
    "sc.server.msg_queues[\"/synced\"]"
   ]
  },
  {
   "cell_type": "markdown",
   "metadata": {},
   "source": [
    "You can see how many values were hold."
   ]
  },
  {
   "cell_type": "code",
   "execution_count": null,
   "metadata": {},
   "outputs": [],
   "source": [
    "sc.server.msg_queues[\"/synced\"].skips"
   ]
  },
  {
   "cell_type": "markdown",
   "metadata": {},
   "source": [
    "Notice that these hold messages will be skipped. "
   ]
  },
  {
   "cell_type": "code",
   "execution_count": null,
   "metadata": {},
   "outputs": [],
   "source": [
    "sc.server.msg(\"/sync\", 3, await_reply=True)"
   ]
  },
  {
   "cell_type": "code",
   "execution_count": null,
   "metadata": {},
   "outputs": [],
   "source": [
    "sc.server.msg_queues[\"/synced\"]"
   ]
  },
  {
   "cell_type": "markdown",
   "metadata": {},
   "source": [
    "Therefore you should retrieve them with `get` and set `skip=False` if you care for old values in the queue and dont want them to be skipped."
   ]
  },
  {
   "cell_type": "code",
   "execution_count": null,
   "metadata": {},
   "outputs": [],
   "source": [
    "sc.server.msg(\"/sync\", 42, await_reply=False)\n",
    "sc.server.msg_queues[\"/synced\"].get(skip=False)"
   ]
  },
  {
   "cell_type": "markdown",
   "metadata": {},
   "source": [
    "### Custom Message Queues\n",
    "\n",
    "If you want to get additional OSC Messages you need to create a custom MessageQueue"
   ]
  },
  {
   "cell_type": "code",
   "execution_count": null,
   "metadata": {},
   "outputs": [],
   "source": [
    "from sc3nb.osc.osc_communication import MessageQueue"
   ]
  },
  {
   "cell_type": "code",
   "execution_count": null,
   "metadata": {},
   "outputs": [],
   "source": [
    "help(MessageQueue)"
   ]
  },
  {
   "cell_type": "code",
   "execution_count": null,
   "metadata": {},
   "outputs": [],
   "source": [
    "mq = MessageQueue(\"/test\")"
   ]
  },
  {
   "cell_type": "code",
   "execution_count": null,
   "metadata": {},
   "outputs": [],
   "source": [
    "sc.server.add_msg_queue(mq)"
   ]
  },
  {
   "cell_type": "code",
   "execution_count": null,
   "metadata": {},
   "outputs": [],
   "source": [
    "sc.server.msg(\"/test\", [\"Hi!\"], receiver=\"sc3nb\")"
   ]
  },
  {
   "cell_type": "code",
   "execution_count": null,
   "metadata": {},
   "outputs": [],
   "source": [
    "sc.server.msg_queues[\"/test\"]"
   ]
  },
  {
   "cell_type": "code",
   "execution_count": null,
   "metadata": {},
   "outputs": [],
   "source": [
    "sc.server.msg(\"/test\", [\"Hello!\"], receiver=\"sc3nb\")"
   ]
  },
  {
   "cell_type": "code",
   "execution_count": null,
   "metadata": {},
   "outputs": [],
   "source": [
    "sc.server.msg_queues[\"/test\"]"
   ]
  },
  {
   "cell_type": "code",
   "execution_count": null,
   "metadata": {},
   "outputs": [],
   "source": [
    "sc.server.msg_queues[\"/test\"].get()"
   ]
  },
  {
   "cell_type": "code",
   "execution_count": null,
   "metadata": {},
   "outputs": [],
   "source": [
    "sc.server.msg_queues[\"/test\"].get()"
   ]
  },
  {
   "cell_type": "markdown",
   "metadata": {},
   "source": [
    "If you want to create a pair of a outgoing message that will receive a certain incomming message you need to specify it via the `out_addr` arugment of `add_msg_queue` or you could use the shortcut for this `add_msg_pairs`"
   ]
  },
  {
   "cell_type": "code",
   "execution_count": null,
   "metadata": {},
   "outputs": [],
   "source": [
    "help(sc.server.add_msg_pairs)"
   ]
  },
  {
   "cell_type": "code",
   "execution_count": null,
   "metadata": {},
   "outputs": [],
   "source": [
    "sc.server.add_msg_pairs({\"/hi\": \"/hi.reply\"})"
   ]
  },
  {
   "cell_type": "markdown",
   "metadata": {},
   "source": [
    "Lets use `OSCdef` in sclang to send us replies."
   ]
  },
  {
   "cell_type": "code",
   "execution_count": null,
   "metadata": {},
   "outputs": [],
   "source": [
    "%%scv\n",
    "OSCdef.newMatching(\"say_hi\", {|msg, time, addr, recvPort| addr.sendMsg(\"/hi.reply\", \"Hello there!\")}, '/hi');"
   ]
  },
  {
   "cell_type": "code",
   "execution_count": null,
   "metadata": {},
   "outputs": [],
   "source": [
    "sc.server.msg(\"/hi\", receiver=\"sclang\")"
   ]
  },
  {
   "cell_type": "markdown",
   "metadata": {},
   "source": [
    "There is also the class MessageQueueCollection, this allows to create multiple MessageQueues for a multiple `addess/subaddresses` combination"
   ]
  },
  {
   "cell_type": "code",
   "execution_count": null,
   "metadata": {},
   "outputs": [],
   "source": [
    "from sc3nb.osc.osc_communication import MessageQueueCollection"
   ]
  },
  {
   "cell_type": "code",
   "execution_count": null,
   "metadata": {},
   "outputs": [],
   "source": [
    "help(MessageQueueCollection)"
   ]
  },
  {
   "cell_type": "code",
   "execution_count": null,
   "metadata": {},
   "outputs": [],
   "source": [
    "mqc = MessageQueueCollection(\"/collect\", [\"/address1\", \"/address2\"])\n",
    "sc.server.add_msg_queue_collection(mqc)"
   ]
  },
  {
   "cell_type": "code",
   "execution_count": null,
   "metadata": {},
   "outputs": [],
   "source": [
    "mqc = MessageQueueCollection(\"/auto_collect\")\n",
    "sc.server.add_msg_queue_collection(mqc)"
   ]
  },
  {
   "cell_type": "code",
   "execution_count": null,
   "metadata": {},
   "outputs": [],
   "source": [
    "sc.server.reply_addresses"
   ]
  },
  {
   "cell_type": "code",
   "execution_count": null,
   "metadata": {},
   "outputs": [],
   "source": [
    "sc.server.msg_queues"
   ]
  },
  {
   "cell_type": "code",
   "execution_count": null,
   "metadata": {},
   "outputs": [],
   "source": [
    "%%scv\n",
    "OSCdef.newMatching(\"ab\", {|msg, time, addr, recvPort| addr.sendMsg('/collect', '/address1', \"toast\".scramble)}, '/address1');"
   ]
  },
  {
   "cell_type": "code",
   "execution_count": null,
   "metadata": {},
   "outputs": [],
   "source": [
    "%%scv\n",
    "OSCdef.newMatching(\"ab\", {|msg, time, addr, recvPort| addr.sendMsg('/collect', '/address2', \"sonification\".scramble)}, '/address2');"
   ]
  },
  {
   "cell_type": "code",
   "execution_count": null,
   "metadata": {},
   "outputs": [],
   "source": [
    "sc.server.msg(\"/address1\", receiver=\"sclang\")"
   ]
  },
  {
   "cell_type": "code",
   "execution_count": null,
   "metadata": {},
   "outputs": [],
   "source": [
    "sc.server.msg(\"/address2\", receiver=\"sclang\")"
   ]
  },
  {
   "cell_type": "markdown",
   "metadata": {},
   "source": [
    "## Examples "
   ]
  },
  {
   "cell_type": "markdown",
   "metadata": {},
   "source": [
    "### Creating an OSC responder and msg to sclang for synthesis"
   ]
  },
  {
   "cell_type": "code",
   "execution_count": null,
   "metadata": {},
   "outputs": [],
   "source": [
    "%%scv\n",
    "OSCdef(\\dinger, { | msg, time, addr, recvPort |\n",
    "    var freq = msg[2];\n",
    "    {Pulse.ar(freq, 0.04, 0.3)!2 * EnvGen.ar(Env.perc, doneAction:2)}.play()\n",
    "}, '/ding')"
   ]
  },
  {
   "cell_type": "code",
   "execution_count": null,
   "metadata": {},
   "outputs": [],
   "source": [
    "with scn.Bundler(receiver=sc.lang.addr):\n",
    "    for i in range(5):\n",
    "        sc.server.msg(\"/ding\", [\"freq\", 1000-5*i], bundle=True)"
   ]
  },
  {
   "cell_type": "code",
   "execution_count": null,
   "metadata": {},
   "outputs": [],
   "source": [
    "for i in range(5):\n",
    "    sc.server.msg(\"/ding\", [\"freq\", 1000-5*i], receiver=sc.lang.addr)"
   ]
  },
  {
   "cell_type": "code",
   "execution_count": null,
   "metadata": {},
   "outputs": [],
   "source": [
    "%scv OSCdef.freeAll()"
   ]
  },
  {
   "cell_type": "code",
   "execution_count": null,
   "metadata": {},
   "outputs": [],
   "source": [
    "sc.exit()"
   ]
  },
  {
   "cell_type": "code",
   "execution_count": null,
   "metadata": {},
   "outputs": [],
   "source": []
  }
 ],
 "metadata": {
  "nbsphinx": {
   "allow_errors": true
  },
  "toc": {
   "base_numbering": 1,
   "nav_menu": {},
   "number_sections": true,
   "sideBar": true,
   "skip_h1_title": true,
   "title_cell": "Table of Contents",
   "title_sidebar": "Contents",
   "toc_cell": false,
   "toc_position": {},
   "toc_section_display": true,
   "toc_window_display": false
  }
 },
 "nbformat": 4,
 "nbformat_minor": 4
}
