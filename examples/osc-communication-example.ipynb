{
 "cells": [
  {
   "cell_type": "markdown",
   "metadata": {},
   "source": [
    "# OSC communication\n",
    "With the OSC communication module of sc3nb you can directly send and receive OSC packets.\n",
    "\n",
    "Open Sound Control (OSC) is a networking protocol for sound and is used by SuperCollider to communicate between sclang and scsynth. sc3nb is itself a OSC client and server. This allows sc3nb to send and receive OSC traffic.\n",
    "\n",
    "For more information on OSC and especially how Supercollider handles OSC packets please refer to the following links:\n",
    "* [Open Sound Control Specification](http://opensoundcontrol.org/spec-1_0)\n",
    "* [Server vs Client SuperCollider Guide](http://doc.sccode.org/Guides/ClientVsServer.html)\n",
    "* [Server Command Reference](https://doc.sccode.org/Reference/Server-Command-Reference.html)\n",
    "* [SuperCollider Synth Server Architecture](https://doc.sccode.org/Reference/Server-Architecture.html)"
   ]
  },
  {
   "cell_type": "code",
   "execution_count": null,
   "metadata": {},
   "outputs": [],
   "source": [
    "import sc3nb as scn"
   ]
  },
  {
   "cell_type": "markdown",
   "metadata": {},
   "source": [
    "To see more information what messages are send and received set the logging level to INFO as seen below."
   ]
  },
  {
   "cell_type": "code",
   "execution_count": null,
   "metadata": {},
   "outputs": [],
   "source": [
    "import logging\n",
    "logging.basicConfig(level=logging.INFO)\n",
    "# even more verbose logging is also avaible\n",
    "# logging.basicConfig(level=logging.DEBUG)"
   ]
  },
  {
   "cell_type": "code",
   "execution_count": null,
   "metadata": {},
   "outputs": [],
   "source": [
    "sc = scn.startup()"
   ]
  },
  {
   "cell_type": "markdown",
   "metadata": {},
   "source": [
    "sc3nb serves as OSC server and as client of the SuperCollider server `scsynth`.<br>\n",
    "You can also communicate with the SuperCollider interpreter `sclang`.<br>\n",
    "\n",
    "\n",
    "You can see the current connection information with `sc.get_connection_info()`"
   ]
  },
  {
   "cell_type": "code",
   "execution_count": null,
   "metadata": {},
   "outputs": [],
   "source": [
    "sc.get_connection_info()"
   ]
  },
  {
   "cell_type": "markdown",
   "metadata": {},
   "source": [
    "## Types of messages\n",
    "sc3nb is has 3 types of messages\n",
    "* async messages\n",
    "* message pairs\n",
    "* all other messages\n"
   ]
  },
  {
   "cell_type": "markdown",
   "metadata": {},
   "source": [
    "### async messages\n",
    "* async messages are messages that are handled in an async fashion by scsynth.\n",
    "* All async messages known to sc3nb are stored in `sc.osc.async_msgs`"
   ]
  },
  {
   "cell_type": "code",
   "execution_count": null,
   "metadata": {},
   "outputs": [],
   "source": [
    "sc.osc.async_msgs"
   ]
  },
  {
   "cell_type": "markdown",
   "metadata": {},
   "source": [
    "If msg is called with `sync=True` (default) sc3nb will perform a `sc.sync()` after the messages was send"
   ]
  },
  {
   "cell_type": "code",
   "execution_count": null,
   "metadata": {},
   "outputs": [],
   "source": [
    "help(sc.sync)"
   ]
  },
  {
   "cell_type": "markdown",
   "metadata": {},
   "source": [
    "Here is a example for the usage of `sc.msg` with an async message"
   ]
  },
  {
   "cell_type": "code",
   "execution_count": null,
   "metadata": {},
   "outputs": [],
   "source": [
    "# /b_alloc has following arguments\n",
    "# int    buffer number\n",
    "# int    number of frames\n",
    "# int    number of channels (optional. default = 1 channel)\n",
    "# bytes  an OSC message to execute upon completion. (optional)\n",
    "numFrames = 100\n",
    "numChannels = 2\n",
    "msg = scn.build_message(\"/s_new\", [\"s1\", sc.next_node_id(), 1, 0, \"freq\", 300])\n",
    "\n",
    "sc.msg(\"/b_alloc\", [sc.next_buffer_id(), numFrames, numChannels, msg.dgram], sync=True)"
   ]
  },
  {
   "cell_type": "markdown",
   "metadata": {},
   "source": [
    "### Message Pairs\n",
    "* Message pairs are messages that have a reply address. \n",
    "* All message pairs known by sc3nb are stored in `sc.osc.msg_pairs`.\n",
    "* These are the only messages that can be received. See below for more information on receiving messages and how to receive messages at custom OSC address "
   ]
  },
  {
   "cell_type": "code",
   "execution_count": null,
   "metadata": {},
   "outputs": [],
   "source": [
    "sc.osc.msg_pairs"
   ]
  },
  {
   "cell_type": "markdown",
   "metadata": {},
   "source": [
    "## Usage"
   ]
  },
  {
   "cell_type": "markdown",
   "metadata": {},
   "source": [
    "### Sending"
   ]
  },
  {
   "cell_type": "markdown",
   "metadata": {},
   "source": [
    "## How does this work?\n",
    "\n",
    "Controlling SuperCollider\n",
    "- **sclang** and **scsynth** are started as subprocesses and thier outputs is collected. \n",
    "- **scsynth** is then controlled via OSC\n",
    "  * Direct control of the server shortcuts a detour via sclang and is both more efficient and promises a lower latency\n",
    "- **sclang** communication is done with pipes and OSC for receiving return values\n",
    "\n"
   ]
  },
  {
   "cell_type": "markdown",
   "metadata": {},
   "source": [
    "## MIDI interface"
   ]
  },
  {
   "cell_type": "raw",
   "metadata": {
    "code_folding": []
   },
   "source": [
    "midi_ctrl_synth(self, synthname='\\\\syn')"
   ]
  },
  {
   "cell_type": "raw",
   "metadata": {
    "code_folding": []
   },
   "source": [
    "midi_ctrl_free(self)"
   ]
  },
  {
   "cell_type": "raw",
   "metadata": {
    "code_folding": []
   },
   "source": [
    "midi_gate_synth(self, synthname='\\\\syn')"
   ]
  },
  {
   "cell_type": "raw",
   "metadata": {
    "code_folding": []
   },
   "source": [
    "midi_gate_free(self)"
   ]
  },
  {
   "cell_type": "markdown",
   "metadata": {},
   "source": [
    "To send OSC messages you can use sc.msg"
   ]
  },
  {
   "cell_type": "code",
   "execution_count": null,
   "metadata": {},
   "outputs": [],
   "source": [
    "help(sc.msg)"
   ]
  },
  {
   "cell_type": "markdown",
   "metadata": {},
   "source": [
    "You can also send OSC bundles."
   ]
  },
  {
   "cell_type": "code",
   "execution_count": null,
   "metadata": {},
   "outputs": [],
   "source": [
    "help(sc.bundle)"
   ]
  },
  {
   "cell_type": "markdown",
   "metadata": {},
   "source": [
    "You can use `sc.bundle` to build a bundle with more messages or bundles"
   ]
  },
  {
   "cell_type": "code",
   "execution_count": null,
   "metadata": {},
   "outputs": [],
   "source": [
    "bundle = sc.bundle(0)\n",
    "\n",
    "bundle.add_msg(\"/s_new\", [\"s2\", -1, 1, 0, \"freq\", 500])\n",
    "bundle.add_msg(\"/n_run\", [-1, 0])\n",
    "bundle.send()\n",
    "\n",
    "bundle = sc.bundle(1.0)\n",
    "bundle.add_msg(\"/n_set\", [-1, \"freq\", 200])\n",
    "bundle.add_msg(\"/n_run\", [-1, 1])\n",
    "bundle.send()\n",
    "\n",
    "bundle = sc.bundle(1.5, \"/n_set\", [-1, \"freq\", 400])\n",
    "bundle.send()\n",
    "\n",
    "bundle = sc.bundle(2.0)\n",
    "bundle.add_msg(\"/n_free\", [-1])\n",
    "bundle.send()"
   ]
  },
  {
   "cell_type": "markdown",
   "metadata": {},
   "source": [
    "**Attention:** If you care about precise timings you should provide a explict timetag (>1e6)"
   ]
  },
  {
   "cell_type": "code",
   "execution_count": null,
   "metadata": {},
   "outputs": [],
   "source": [
    "import time\n",
    "now = time.time()\n",
    "\n",
    "bundle = sc.bundle(now)\n",
    "bundle.add_msg(\"/s_new\", [\"s2\", -1, 1, 0, \"freq\", 500])\\\n",
    "    .add_msg(\"/n_run\", [-1, 0]).send()\n",
    "\n",
    "bundle = sc.bundle(now + 1)\n",
    "bundle.add_msg(\"/n_set\", [-1, \"freq\", 200]).add_msg(\"/n_run\", [-1, 1]).send()\n",
    "\n",
    "bundle = sc.bundle(now + 1.5, \"/n_set\", [-1, \"freq\", 400]).send()\n",
    "\n",
    "bundle = sc.bundle(now + 2).add_msg(\"/n_free\", [-1]).send()"
   ]
  },
  {
   "cell_type": "markdown",
   "metadata": {},
   "source": [
    "Even better: You can also add bundles to a bundle."
   ]
  },
  {
   "cell_type": "code",
   "execution_count": null,
   "metadata": {},
   "outputs": [],
   "source": [
    "now = time.time()\n",
    "s2_node_id = sc.next_node_id()\n",
    "\n",
    "bundle = sc.bundle(now)\n",
    "\n",
    "inner_bundle = sc.bundle(now + 0.7)\\\n",
    "    .add_msg(\"/s_new\", [\"s1\", -1, 1, 0, \"freq\", 400])\\\n",
    "    .add_msg(\"/n_query\", [-1])\\\n",
    "    .add_msg(\"/s_new\", [\"s2\", s2_node_id, 1, 0, \"freq\", 100])\\\n",
    "    .add_msg(\"/n_query\", [-1])\n",
    "bundle.add_content(inner_bundle.build())\n",
    "\n",
    "ib2 = sc.bundle(now + 1.2)\\\n",
    "    .add_msg(\"/n_set\", [-1, \"freq\", 200])\\\n",
    "    .add_msg(\"/s_new\", [\"s1\", -1, 1, 0, \"freq\", 800])\n",
    "bundle.add_content(ib2.build())\n",
    "\n",
    "bundle.add_content(sc.bundle(now + 1.5).add_msg(\"/n_free\", [s2_node_id]).build())\n",
    "\n",
    "bundle.send()"
   ]
  },
  {
   "cell_type": "markdown",
   "metadata": {},
   "source": [
    "Note that we only receive the n_go / n_end notifications from nodes with specified node ids"
   ]
  },
  {
   "cell_type": "markdown",
   "metadata": {},
   "source": [
    "### Receiving"
   ]
  },
  {
   "cell_type": "markdown",
   "metadata": {},
   "source": [
    "When messages are received they are stored in one of the message queues of the OSC communication module of sc3nb\n",
    "\n",
    "You can see all queues and their OSC address with the help of `sc.msg_queues`. There is a queue for each message pair in `sc.msg_pairs`."
   ]
  },
  {
   "cell_type": "code",
   "execution_count": null,
   "metadata": {},
   "outputs": [],
   "source": [
    "sc.msg_queues"
   ]
  },
  {
   "cell_type": "markdown",
   "metadata": {},
   "source": [
    "If we send a message to one of this addresses we receive the reply as return value"
   ]
  },
  {
   "cell_type": "code",
   "execution_count": null,
   "metadata": {},
   "outputs": [],
   "source": [
    "sc.msg(\"/sync\", 1500)"
   ]
  },
  {
   "cell_type": "markdown",
   "metadata": {},
   "source": [
    "If we specify `sync=False` the message will be kept in the queue"
   ]
  },
  {
   "cell_type": "code",
   "execution_count": null,
   "metadata": {},
   "outputs": [],
   "source": [
    "sc.msg(\"/sync\", 42, sync=False)"
   ]
  },
  {
   "cell_type": "code",
   "execution_count": null,
   "metadata": {},
   "outputs": [],
   "source": [
    "sc.msg_queues[\"/sync\"]"
   ]
  },
  {
   "cell_type": "markdown",
   "metadata": {},
   "source": [
    "You can see how many values were hold."
   ]
  },
  {
   "cell_type": "code",
   "execution_count": null,
   "metadata": {},
   "outputs": [],
   "source": [
    "sc.msg_queues[\"/sync\"].skips"
   ]
  },
  {
   "cell_type": "markdown",
   "metadata": {},
   "source": [
    "Notice that these hold messages can be skipped. "
   ]
  },
  {
   "cell_type": "code",
   "execution_count": null,
   "metadata": {},
   "outputs": [],
   "source": [
    "sc.sync()\n",
    "sc.msg_queues[\"/sync\"].skips"
   ]
  },
  {
   "cell_type": "code",
   "execution_count": null,
   "metadata": {},
   "outputs": [],
   "source": [
    "sc.msg(\"/status\", sync=False)"
   ]
  },
  {
   "cell_type": "code",
   "execution_count": null,
   "metadata": {},
   "outputs": [],
   "source": [
    "sc.msg_queues[\"/status\"]"
   ]
  },
  {
   "cell_type": "code",
   "execution_count": null,
   "metadata": {},
   "outputs": [],
   "source": [
    "sc.msg(\"/status\")"
   ]
  },
  {
   "cell_type": "markdown",
   "metadata": {},
   "source": [
    "Therefore you should retrieve them with `get` if you care for old values in the queue and dont want them to be skipped."
   ]
  },
  {
   "cell_type": "code",
   "execution_count": null,
   "metadata": {},
   "outputs": [],
   "source": [
    "sc.msg(\"/status\", sync=False)"
   ]
  },
  {
   "cell_type": "code",
   "execution_count": null,
   "metadata": {},
   "outputs": [],
   "source": [
    "sc.msg_queues[\"/status\"].get()"
   ]
  },
  {
   "cell_type": "code",
   "execution_count": null,
   "metadata": {},
   "outputs": [],
   "source": [
    "sc.msg(\"/status\")"
   ]
  },
  {
   "cell_type": "markdown",
   "metadata": {},
   "source": [
    "To add a new message queue you can simply use `sc.update_msg_queues()`"
   ]
  },
  {
   "cell_type": "code",
   "execution_count": null,
   "metadata": {},
   "outputs": [],
   "source": [
    "help(sc.update_msg_queues)"
   ]
  },
  {
   "cell_type": "code",
   "execution_count": null,
   "metadata": {},
   "outputs": [],
   "source": [
    "sc.update_msg_queues({\"/test\": \"/test.reply\", \"/time\": \"/time.reply\"})"
   ]
  },
  {
   "cell_type": "markdown",
   "metadata": {},
   "source": [
    "This updates the `msg_pairs`"
   ]
  },
  {
   "cell_type": "code",
   "execution_count": null,
   "metadata": {},
   "outputs": [],
   "source": [
    "sc.osc.msg_pairs"
   ]
  },
  {
   "cell_type": "markdown",
   "metadata": {},
   "source": [
    "You can now use the msg_queue of `/test`"
   ]
  },
  {
   "cell_type": "code",
   "execution_count": null,
   "metadata": {},
   "outputs": [],
   "source": [
    "sc.msg_queues[\"/test\"]"
   ]
  },
  {
   "cell_type": "markdown",
   "metadata": {},
   "source": [
    "Lets use `OSCdef` in sclang to send us replies."
   ]
  },
  {
   "cell_type": "code",
   "execution_count": null,
   "metadata": {},
   "outputs": [],
   "source": [
    "%%sc\n",
    "OSCdef.newMatching(\"test\", {|msg, time, addr, recvPort| addr.sendMsg(\"/test.reply\", \"Hello there!\")}, '/test');"
   ]
  },
  {
   "cell_type": "code",
   "execution_count": null,
   "metadata": {},
   "outputs": [],
   "source": [
    "sc.msg(\"/test\", sclang=True)"
   ]
  },
  {
   "cell_type": "code",
   "execution_count": null,
   "metadata": {},
   "outputs": [],
   "source": [
    "%%sc\n",
    "OSCdef.newMatching('mykey', {|msg, time, addr, recvPort| addr.sendMsg(\"/time.reply\", time)}, '/time');"
   ]
  },
  {
   "cell_type": "code",
   "execution_count": null,
   "metadata": {},
   "outputs": [],
   "source": [
    "sc.msg(\"/time\", sclang=True, sync=False)\n",
    "sc.msg(\"/time\", sclang=True, sync=False)"
   ]
  },
  {
   "cell_type": "code",
   "execution_count": null,
   "metadata": {},
   "outputs": [],
   "source": [
    "sc.msg_queues[\"/time\"]"
   ]
  },
  {
   "cell_type": "code",
   "execution_count": null,
   "metadata": {},
   "outputs": [],
   "source": [
    "print(sc.msg_queues[\"/time\"].get())\n",
    "print(sc.msg_queues[\"/time\"].get())"
   ]
  },
  {
   "cell_type": "code",
   "execution_count": null,
   "metadata": {},
   "outputs": [],
   "source": [
    "sc.msg_queues[\"/time\"]"
   ]
  },
  {
   "cell_type": "code",
   "execution_count": null,
   "metadata": {},
   "outputs": [],
   "source": [
    "%sc OSCdef('mykey').disable // to disable the OSCdef"
   ]
  },
  {
   "cell_type": "code",
   "execution_count": null,
   "metadata": {},
   "outputs": [],
   "source": []
  },
  {
   "cell_type": "markdown",
   "metadata": {},
   "source": [
    "## Creating an OSC responder and msg to sclang for synthesis"
   ]
  },
  {
   "cell_type": "code",
   "execution_count": null,
   "metadata": {},
   "outputs": [],
   "source": [
    "%%scv\n",
    "OSCdef(\\dinger, { | msg, time, addr, recvPort |\n",
    "    var freq = msg[2];\n",
    "    {Pulse.ar(freq, 0.04, 0.3)!2 * EnvGen.ar(Env.perc, doneAction:2)}.play()\n",
    "}, '/ding')"
   ]
  },
  {
   "cell_type": "code",
   "execution_count": null,
   "metadata": {},
   "outputs": [],
   "source": [
    "for i in range(100):\n",
    "    sc.server.msg(\"/ding\", [\"freq\", 1000-5*i], receiver=sc.lang.addr)"
   ]
  },
  {
   "cell_type": "code",
   "execution_count": null,
   "metadata": {},
   "outputs": [],
   "source": [
    "%sc OSCdef.freeAll()"
   ]
  },
  {
   "cell_type": "code",
   "execution_count": null,
   "metadata": {},
   "outputs": [],
   "source": []
  },
  {
   "cell_type": "markdown",
   "metadata": {},
   "source": [
    "## OSC Stuff"
   ]
  },
  {
   "cell_type": "markdown",
   "metadata": {},
   "source": [
    "* The basic wrapper for OSC messages, both to scsynth and sclang is \n",
    "`msg(msg_addr, msg_args, sclang=False)`\n",
    "* By default, it sends messages to scsynth, but with sclang=True messages can be sent to sclangs OSC port."
   ]
  },
  {
   "cell_type": "code",
   "execution_count": null,
   "metadata": {
    "code_folding": []
   },
   "outputs": [],
   "source": [
    "sc.server.msg(\"/s_new\", [\"s1\", 1001, 1, 0, \"freq\", 300])  # a short 300 Hz tone"
   ]
  },
  {
   "cell_type": "markdown",
   "metadata": {},
   "source": [
    "* note that you have to specify the nodeID (here 1001), possibly without knowing whether that nodeID is free. If it is not, the node could not be created.\n",
    "* using nodeID -1 will let scsynth automatically select a free nodeID, however, so far there is no communication channel to receive this number from scsynth"
   ]
  },
  {
   "cell_type": "code",
   "execution_count": null,
   "metadata": {
    "slideshow": {
     "slide_type": "slide"
    }
   },
   "outputs": [],
   "source": [
    "# a more complex example\n",
    "for p in [0,2,4,7,5,5,9,7,7,12,11,12,7,4,0,2,4,5,7,9,7,5,4,2,4,0,-1,0,2,-5,-1,2,5,4,2,4]:\n",
    "    freq = scn.midicps(60+p)  # see helper fns below\n",
    "    sc.server.msg(\"/s_new\", [\"s1\", -1, 1, 0, \"freq\", freq, \"dur\", 0.5, \"num\", 1])\n",
    "    time.sleep(0.15)"
   ]
  },
  {
   "cell_type": "markdown",
   "metadata": {},
   "source": [
    "* Note that the timing is here under python's control, which is not very precise.\n",
    "* Bundles allow to specify a timetag and thus let scsynth control the timing, which is much better, if applicable.\n",
    "* Bundler can be created by\n",
    "        bundler(timetag, msg_addr, msg_args=None, sclang=False)\n",
    "\n",
    "\n",
    "* Note that it is needed to call ´send´ on the bundler to build a bundle and send it."
   ]
  },
  {
   "cell_type": "code",
   "execution_count": null,
   "metadata": {},
   "outputs": [],
   "source": [
    "sc.server.bundler(1.2, \"/s_new\", [\"s1\", -1, 1, 0, \"freq\", 200, \"dur\", 1]).send()  # a tone starts in 1.2s\n",
    "sc.server.bundler(1.7, \"/s_new\", [\"s1\", -1, 1, 0, \"freq\", 300, \"dur\", 1]).send()  # a tone starts in 1.7s"
   ]
  },
  {
   "cell_type": "markdown",
   "metadata": {},
   "source": [
    "* small numbers are times in seconds relative to `time.time()` evaluated at fn execution\n",
    "* use one bundler with multiple messages or use `time.time()+timeoffset` to specify in absolute times (see next example)"
   ]
  },
  {
   "cell_type": "code",
   "execution_count": null,
   "metadata": {},
   "outputs": [],
   "source": [
    "t0 = time.time()\n",
    "for i, r in enumerate(np.random.randn(100)):\n",
    "    onset = t0 + 3 + r\n",
    "    freq = 500 + 5 * i\n",
    "    msg_args = [\"s1\", -1, 1, 0, \"freq\", freq, \"dur\", 1.5, \"num\", abs(r)+1]\n",
    "    sc.server.bundler(onset, \"/s_new\", msg_args).send()"
   ]
  },
  {
   "cell_type": "markdown",
   "metadata": {},
   "source": [
    "**Remarks**:\n",
    "* note that the python code returns immediately and all events remain in scsynth\n",
    "* note that unfortunately scsynth has a limited buffer for OSC messages, so it is not viable to spawn thousends of events. scsynth will then simply reject OSC messages.\n",
    "* this motivated (and is solved) with a TimedQueue, see below."
   ]
  }
 ],
 "metadata": {
  "nbsphinx": {
   "allow_errors": true
  },
  "toc": {
   "base_numbering": 1,
   "nav_menu": {},
   "number_sections": true,
   "sideBar": true,
   "skip_h1_title": true,
   "title_cell": "Table of Contents",
   "title_sidebar": "Contents",
   "toc_cell": false,
   "toc_position": {},
   "toc_section_display": true,
   "toc_window_display": false
  }
 },
 "nbformat": 4,
 "nbformat_minor": 4
}
