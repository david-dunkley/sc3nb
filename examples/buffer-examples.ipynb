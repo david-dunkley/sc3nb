{
 "cells": [
  {
   "cell_type": "markdown",
   "metadata": {},
   "source": [
    "# Buffer"
   ]
  },
  {
   "cell_type": "markdown",
   "metadata": {},
   "source": [
    "* Buffer is a python class in the sc3nb package to interface with Buffers on the SuperCollider3 server.\n",
    "* The constructor is invoked by the method Buffer(), as attribute of a booted SC instance\n",
    "        buf = sc.Buffer()\n",
    "  to allocate a buffer on the sound server.\n",
    "* The buffer instance is returned so that subsequent buffer methods (load_data, load_existing, etc.) can be directly invoked\n",
    "* todo... continue\n",
    "\n",
    "This notebook gives examples howto work with sc3nb.Buffers"
   ]
  },
  {
   "cell_type": "code",
   "execution_count": null,
   "metadata": {},
   "outputs": [],
   "source": [
    "import numpy as np\n",
    "import sc3nb as scn"
   ]
  },
  {
   "cell_type": "code",
   "execution_count": null,
   "metadata": {},
   "outputs": [],
   "source": [
    "sc = scn.startup()"
   ]
  },
  {
   "cell_type": "markdown",
   "metadata": {},
   "source": [
    "## Create Buffer from np Array"
   ]
  },
  {
   "cell_type": "code",
   "execution_count": null,
   "metadata": {},
   "outputs": [],
   "source": [
    "d0 = np.random.rand(60000, 1)"
   ]
  },
  {
   "cell_type": "code",
   "execution_count": null,
   "metadata": {},
   "outputs": [],
   "source": [
    "buf0 = sc.Buffer().load_data(d0[0:60000, 0])\n",
    "buf0"
   ]
  },
  {
   "cell_type": "markdown",
   "metadata": {},
   "source": [
    "In this case a default buffer with default sample rate (44100) and default insert mode (ToDo: '...') is created. If you want to create a buffer with a specific sample rate or OSC insertion method etc.. \n",
    "\n",
    "Attention: the OSC insertion is only usefull for small datasets (less than 1000 entries). For larger datasets the default file mode is much faster"
   ]
  },
  {
   "cell_type": "code",
   "execution_count": null,
   "metadata": {},
   "outputs": [],
   "source": [
    "# uncomment following line to see help for the Buffer class:\n",
    "# help(scn.Buffer)"
   ]
  },
  {
   "cell_type": "code",
   "execution_count": null,
   "metadata": {},
   "outputs": [],
   "source": [
    "buf01 = sc.Buffer().load_data(d0[0:60000, 0], sr=5, mode=\"osc\")\n",
    "buf01"
   ]
  },
  {
   "cell_type": "markdown",
   "metadata": {},
   "source": [
    "## Create Buffer from PyA\n",
    "Only theorical - I don't have the pya package to test it"
   ]
  },
  {
   "cell_type": "raw",
   "metadata": {},
   "source": [
    "from pya import *\n",
    "d1 = UGen(0.5).sine(100).fade_out(0.5) # 0.5s sine tone of 100 Hz\n",
    "buf1 = sc.Buffer().load_pya(d1)\n",
    "# Todo: problem pya has own sc, should overwrite Buffer default sc"
   ]
  },
  {
   "cell_type": "markdown",
   "metadata": {},
   "source": [
    "Again, default transport method is mode='file', i.e. using a temporary file and fill the buffer on sc\n",
    "with this content. \n",
    "* use mode=\"osc\" to select the direct transfer of data via OSC messages (currently with size limits)"
   ]
  },
  {
   "cell_type": "markdown",
   "metadata": {},
   "source": [
    "## Create Buffer of .wav File"
   ]
  },
  {
   "cell_type": "code",
   "execution_count": null,
   "metadata": {},
   "outputs": [],
   "source": [
    "buf2 = sc.Buffer().load_file(\"C:\\\\Users\\\\Micha\\\\Downloads\\\\a2002011001-e02.wav\")\n",
    "buf2"
   ]
  },
  {
   "cell_type": "code",
   "execution_count": null,
   "metadata": {},
   "outputs": [],
   "source": [
    "buf2.play()\n",
    "print(buf2)\n",
    "buf2.query()"
   ]
  },
  {
   "cell_type": "markdown",
   "metadata": {},
   "source": [
    "The buffer method will automatically read the sample reate of the file and set it to Buffer.sr"
   ]
  },
  {
   "cell_type": "markdown",
   "metadata": {},
   "source": [
    "## Allocate an empty Buffer"
   ]
  },
  {
   "cell_type": "code",
   "execution_count": null,
   "metadata": {},
   "outputs": [],
   "source": [
    "buf3 = sc.Buffer().alloc(8*44100, sr=44100)\n",
    "buf3"
   ]
  },
  {
   "cell_type": "markdown",
   "metadata": {},
   "source": [
    "## Reuse an existing SC buffer\n",
    "If you have already created a buffer in SC and want to have a sc3nb.Buffer object of that already existing buffer (identified by its bufnum), use Buffer.load_existing(bufnum):"
   ]
  },
  {
   "cell_type": "code",
   "execution_count": null,
   "metadata": {},
   "outputs": [],
   "source": [
    "%sc b = Buffer.read(s, Platform.resourceDir +/+ \"sounds/a11wlk01.wav\");"
   ]
  },
  {
   "cell_type": "code",
   "execution_count": null,
   "metadata": {},
   "outputs": [],
   "source": [
    "buf4num = %scg b.bufnum\n",
    "buf4num\n",
    "# ToDo: I got some odd values here such as '/b_allocRead' etc, on repeating finally I get the nr.\n",
    "# check if this problem is gone with Dennis' improved cmd() interface"
   ]
  },
  {
   "cell_type": "code",
   "execution_count": null,
   "metadata": {},
   "outputs": [],
   "source": [
    "buf4 = sc.Buffer().load_existing(buf4num)\n",
    "buf4"
   ]
  },
  {
   "cell_type": "markdown",
   "metadata": {},
   "source": [
    "## Copy an existing SC buffer\n",
    "If you want to copy an already existing buffer into another buffer, you can do it:"
   ]
  },
  {
   "cell_type": "code",
   "execution_count": null,
   "metadata": {},
   "outputs": [],
   "source": [
    "buf5 = sc.Buffer().copy_existing(buf4)"
   ]
  },
  {
   "cell_type": "markdown",
   "metadata": {},
   "source": [
    "With this method, the complete buffer with all samples is copied. If you want to copy only a selection of samples, you can use `gen_copy()` (see below)."
   ]
  },
  {
   "cell_type": "markdown",
   "metadata": {},
   "source": [
    "## Play Buffer"
   ]
  },
  {
   "cell_type": "markdown",
   "metadata": {},
   "source": [
    "* The play method has the problem that different synths need to be used for different number of channels. \n",
    "    * The default play method creates the mono-channel synth 'pb-1ch'. \n",
    "    * For stereo buffers, manually overwrite by setting synth='pb-2ch'. \n",
    "* Future versions of Buffer should be able to determine the number of channels and automatically select an appropriate synth."
   ]
  },
  {
   "cell_type": "code",
   "execution_count": null,
   "metadata": {},
   "outputs": [],
   "source": [
    "%sc s.scope"
   ]
  },
  {
   "cell_type": "code",
   "execution_count": null,
   "metadata": {},
   "outputs": [],
   "source": [
    "buf4.play()  # play at rate 1"
   ]
  },
  {
   "cell_type": "code",
   "execution_count": null,
   "metadata": {},
   "outputs": [],
   "source": [
    "buf4.play(rate=2)  # play at given rate"
   ]
  },
  {
   "cell_type": "code",
   "execution_count": null,
   "metadata": {},
   "outputs": [],
   "source": [
    "node_id = buf4.play(rate=4, loop=True)  # play looped "
   ]
  },
  {
   "cell_type": "code",
   "execution_count": null,
   "metadata": {},
   "outputs": [],
   "source": [
    "sc.msg(\"/n_free\", node_id)  # free the buffer player "
   ]
  },
  {
   "cell_type": "markdown",
   "metadata": {},
   "source": [
    "## Write buffer content to file\n",
    "Write the content of a buffer into a file. By default it is a .wav File with float as sample. You can change it via parameters \"header\" and \"sample\"."
   ]
  },
  {
   "cell_type": "code",
   "execution_count": null,
   "metadata": {},
   "outputs": [],
   "source": [
    "buf4.write(\"./output.wav\")"
   ]
  },
  {
   "cell_type": "markdown",
   "metadata": {},
   "source": [
    "## Fill buffer with values\n",
    "Fill a buffer range with values:"
   ]
  },
  {
   "cell_type": "code",
   "execution_count": null,
   "metadata": {},
   "outputs": [],
   "source": [
    "buf3.fill(0, 8*44100, 700)"
   ]
  },
  {
   "cell_type": "markdown",
   "metadata": {},
   "source": [
    "Fill buffer with sinus waves and given amplitudes."
   ]
  },
  {
   "cell_type": "code",
   "execution_count": null,
   "metadata": {},
   "outputs": [],
   "source": [
    "buf3.gen_sine1([1,2,3])"
   ]
  },
  {
   "cell_type": "markdown",
   "metadata": {},
   "source": [
    "Fill buffer with sinus waves and given amplitude + frequency"
   ]
  },
  {
   "cell_type": "code",
   "execution_count": null,
   "metadata": {},
   "outputs": [],
   "source": [
    "buf3.gen_sine2([[1, 300], [2, 400], [3, 500]])"
   ]
  },
  {
   "cell_type": "markdown",
   "metadata": {},
   "source": [
    "Fill buffer with sinus waves and given amplitude + frequency + phase"
   ]
  },
  {
   "cell_type": "code",
   "execution_count": null,
   "metadata": {},
   "outputs": [],
   "source": [
    "buf3.gen_sine3([[1, 300, 1], [2, 400, 2], [3, 500, 3]])"
   ]
  },
  {
   "cell_type": "markdown",
   "metadata": {},
   "source": [
    "Fill buffer with series of chebyshev polynomials:\n",
    "$cheby(n) = amplitude * cos(n * acos(x))$"
   ]
  },
  {
   "cell_type": "code",
   "execution_count": null,
   "metadata": {},
   "outputs": [],
   "source": [
    "buf3.gen_cheby([1,1,1])"
   ]
  },
  {
   "cell_type": "markdown",
   "metadata": {},
   "source": [
    "`gen_sine1` to `gen_sine3` and `gen_cheby` have the optimal parameters:\n",
    "* normalize: Normalize peak amplitude of wave to 1.0.\n",
    "* wavetable: If set, then the buffer is written in wavetable format so that it can be read by interpolating oscillators.\n",
    "* clear: if set then the buffer is cleared before new partials are written into it. Otherwise the new partials are summed with the existing contents of the buffer.\n",
    "\n",
    "Copy data of another buffer:"
   ]
  },
  {
   "cell_type": "code",
   "execution_count": null,
   "metadata": {},
   "outputs": [],
   "source": [
    "buf3.gen_copy(buf2, 1, 2, 100)"
   ]
  },
  {
   "cell_type": "markdown",
   "metadata": {},
   "source": [
    "Here we copy 100 samples of `buf2` at starting pos 1 to buf3 at position 2. Use a negative amount of samples to copy all available samples"
   ]
  },
  {
   "cell_type": "markdown",
   "metadata": {},
   "source": [
    "## Information about the buffer\n",
    "Information about the buffer object:"
   ]
  },
  {
   "cell_type": "code",
   "execution_count": null,
   "metadata": {},
   "outputs": [],
   "source": [
    "buf3"
   ]
  },
  {
   "cell_type": "markdown",
   "metadata": {},
   "source": [
    "Information about the buffer in SC\n",
    "(Known bug: You have to call this method multiple times, until you've got a list with the bufnum in the first list item)"
   ]
  },
  {
   "cell_type": "code",
   "execution_count": null,
   "metadata": {},
   "outputs": [],
   "source": [
    "buf3.query()"
   ]
  },
  {
   "cell_type": "markdown",
   "metadata": {},
   "source": [
    "## Delete/ Free buffer"
   ]
  },
  {
   "cell_type": "markdown",
   "metadata": {},
   "source": [
    "* We start with a buffer"
   ]
  },
  {
   "cell_type": "code",
   "execution_count": null,
   "metadata": {},
   "outputs": [],
   "source": [
    "buf2 = sc.Buffer().load_file(\"./my_recording.wav\")\n",
    "buf2.play(synth=\"pb-2ch\")"
   ]
  },
  {
   "cell_type": "code",
   "execution_count": null,
   "metadata": {},
   "outputs": [],
   "source": [
    "print(buf2)\n",
    "buf2.query()"
   ]
  },
  {
   "cell_type": "markdown",
   "metadata": {},
   "source": [
    "* now set all values of the buffer to zero:"
   ]
  },
  {
   "cell_type": "code",
   "execution_count": null,
   "metadata": {},
   "outputs": [],
   "source": [
    "buf2.zero()"
   ]
  },
  {
   "cell_type": "code",
   "execution_count": null,
   "metadata": {},
   "outputs": [],
   "source": [
    "print(buf2)\n",
    "buf2.query()"
   ]
  },
  {
   "cell_type": "markdown",
   "metadata": {},
   "source": [
    "Delete buffer in SC:"
   ]
  },
  {
   "cell_type": "code",
   "execution_count": null,
   "metadata": {},
   "outputs": [],
   "source": [
    "buf2.free()"
   ]
  },
  {
   "cell_type": "code",
   "execution_count": null,
   "metadata": {},
   "outputs": [],
   "source": [
    "print(buf2)\n",
    "buf2.query()"
   ]
  }
 ],
 "metadata": {
  "kernelspec": {
   "display_name": "Python 3",
   "language": "python",
   "name": "python3"
  },
  "language_info": {
   "codemirror_mode": {
    "name": "ipython",
    "version": 3
   },
   "file_extension": ".py",
   "mimetype": "text/x-python",
   "name": "python",
   "nbconvert_exporter": "python",
   "pygments_lexer": "ipython3",
   "version": "3.7.1"
  }
 },
 "nbformat": 4,
 "nbformat_minor": 2
}
