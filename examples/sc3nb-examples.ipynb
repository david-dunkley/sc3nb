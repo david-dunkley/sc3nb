{
 "cells": [
  {
   "cell_type": "markdown",
   "metadata": {},
   "source": [
    "# sc3nb – SuperCollider3 for python / jupyter notebooks\n",
    "\n",
    "&copy; 2017-2021 by Thomas Hermann,  <br>contributions from: Ferdinand Schlatt, Fabian Kaupmann, Dennis Reinsch, Micha Steffen Vosse\n",
    "\n",
    "* * *\n",
    "\n",
    "\n",
    "sc3nb is a python package that offers an interface to SuperCollider3. \n",
    "\n",
    "The goal of sc3nb is to facilitate the programming of auditory displays and interactive sonifications by\n",
    "- teaming up python (and particularly numpy, scipy, pandas, matplotlib etc.) for data science\n",
    "- and SuperCollider3 for interactive real-time sound rendering.\n",
    "\n",
    "\n",
    "It currently allows to..\n",
    "\n",
    "- start and control the SuperCollider audio server (scsynth)\n",
    "  - The SuperCollider audio server can be started and addressed via a python SuperCollider Server implementation or via OSC messages directly.\n",
    "  - There are many Python implementations of Classes from SuperCollider like `Synth`, `SynthDef`, `Buffer` and `Bus`\n",
    "\n",
    "- use the SuperCollider language (sclang) interactively via a subprocess\n",
    "  - You can write SuperCollider language code in Jupyter Notebooks and let sclang evaluate it.\n",
    "  - Inject python variables into your sclang code and even get the results of the sclang code in python\n",
    "\n",
    "\n",
    "\n",
    "\n",
    "sc3nb can be used for\n",
    "\n",
    "- multi-channel audio processing\n",
    "- auditory display and sonification\n",
    "- sound synthesis experiment\n",
    "- audio applications in general such as games or GUI-enhancements\n",
    "- signal analysis and plotting\n",
    "- computer music and just in time music control\n",
    "- any usecase that the SuperCollider 3 language supports\n",
    "\n",
    "\n",
    "It is meant to grow into a backend for a sonification package, and can be used both from jupyter and in standard python software development.\n",
    "\n",
    "sc3nb is hosted at GitHub https://github.com/thomas-hermann/sc3nb"
   ]
  },
  {
   "cell_type": "markdown",
   "metadata": {},
   "source": [
    "## Getting Started"
   ]
  },
  {
   "cell_type": "markdown",
   "metadata": {},
   "source": [
    "### Installing sc3nb\n",
    "\n",
    "- To use sc3nb you need a installation of SuperCollider on your system. See https://supercollider.github.io/download for instructions.\n",
    "- To install sc3nb you can\n",
    "  - install it locally in editable mode (i.e. changes to sc3nb code will automatically be \"re-installed\"). \n",
    "    - clone the repository from https://github.com/thomas-hermann/sc3nb \n",
    "    -  from inside the sc3nb directory run `pip install -e .`\n",
    "  - or install it directly from GitHub using `pip install git+git://github.com/thomas-hermann/sc3nb@master`\n",
    "\n",
    "However we are currently making sure that sc3nb can also be installed via `pip install sc3nb` from PyPI"
   ]
  },
  {
   "cell_type": "markdown",
   "metadata": {},
   "source": [
    "### Starting sc3nb"
   ]
  },
  {
   "cell_type": "code",
   "execution_count": null,
   "metadata": {},
   "outputs": [],
   "source": [
    "import sc3nb as scn"
   ]
  },
  {
   "cell_type": "markdown",
   "metadata": {},
   "source": [
    "To startup sc3nb (sclang, scsynth, and a python OSC server) use `startup`"
   ]
  },
  {
   "cell_type": "code",
   "execution_count": null,
   "metadata": {},
   "outputs": [],
   "source": [
    "sc = scn.startup()  # optionally specify arg sclang_path=\"/path/to/sclang\""
   ]
  },
  {
   "cell_type": "markdown",
   "metadata": {},
   "source": [
    "You can produce a test sound with `blip`, which should relax any tensions whether the server is up and running. This sound should be played by the default server start."
   ]
  },
  {
   "cell_type": "code",
   "execution_count": null,
   "metadata": {},
   "outputs": [],
   "source": [
    "sc.server.blip()"
   ]
  },
  {
   "cell_type": "markdown",
   "metadata": {},
   "source": [
    "`sc` provides you the interfaces for \n",
    "* `scsynth` via `sc.server`\n",
    "* `sclang` via `sc.lang`"
   ]
  },
  {
   "cell_type": "markdown",
   "metadata": {},
   "source": [
    "**Configuration of sc3nb startup**:\n",
    "\n",
    "- If the executables are not in `$PATH`, you can specify them with `sclang_path` / `scsynth_path` f.e. `sclang_path=\"/path/to/sclang-containing-dir/sclang\"`\n",
    "\n",
    "  - On macOS they reside in `/Applications/SuperCollider.app/Contents` in the folders MacOS and Resources. <br>\n",
    "  To add these paths to your `$PATH`, simply add to your ~/.profile, e.g. (please adapt to your installation): <br>\n",
    "  `PATH=$PATH:/Applications/SuperCollider.app/Contents/MacOS:/Applications/SuperCollider.app/Contents/Resources`  \n",
    "  - On Windows they reside in your Installation folder f.e `C:\\Program Files\\SuperCollider-3.x.x`\n",
    "\n",
    "* You could also only use **scsynth** and don't start **sclang** with `start_sclang=False`\n",
    "* See `help(scn.startup)` for all options"
   ]
  },
  {
   "cell_type": "markdown",
   "metadata": {},
   "source": [
    "## Basic examples"
   ]
  },
  {
   "cell_type": "markdown",
   "metadata": {},
   "source": [
    "Create and control SuperCollider Synths"
   ]
  },
  {
   "cell_type": "code",
   "execution_count": null,
   "metadata": {},
   "outputs": [],
   "source": [
    "syn = scn.Synth()\n",
    "syn"
   ]
  },
  {
   "cell_type": "code",
   "execution_count": null,
   "metadata": {},
   "outputs": [],
   "source": [
    "syn.freq = 800\n",
    "syn"
   ]
  },
  {
   "cell_type": "code",
   "execution_count": null,
   "metadata": {},
   "outputs": [],
   "source": [
    "syn.free()"
   ]
  },
  {
   "cell_type": "markdown",
   "metadata": {},
   "source": [
    "Send SynthDefs with python code injection"
   ]
  },
  {
   "cell_type": "code",
   "execution_count": null,
   "metadata": {},
   "outputs": [],
   "source": [
    "synth_dur = 0.5  # you can use python variable values in SynthDefs\n",
    "synth_def = scn.SynthDef('random', \"\"\"{ |out|\n",
    "Out.ar(out, SinOsc.ar(Rand(400, 800), 0, 0.2) * Line.kr(1, 0, ^synth_dur, doneAction: Done.freeSelf))\n",
    "}\"\"\")\n",
    "synth_def.add()\n",
    "\n",
    "scn.Synth(\"random\")"
   ]
  },
  {
   "cell_type": "markdown",
   "metadata": {},
   "source": [
    "Load File as Buffer and play it"
   ]
  },
  {
   "cell_type": "code",
   "execution_count": null,
   "metadata": {},
   "outputs": [],
   "source": [
    "buf = scn.Buffer().read(\"./media/blip.wav\")\n",
    "buf"
   ]
  },
  {
   "cell_type": "code",
   "execution_count": null,
   "metadata": {},
   "outputs": [],
   "source": [
    "buf.play()"
   ]
  },
  {
   "cell_type": "code",
   "execution_count": null,
   "metadata": {},
   "outputs": [],
   "source": [
    "buffer_data = buf.to_array()\n",
    "print(buffer_data.shape)\n",
    "buffer_data"
   ]
  },
  {
   "cell_type": "markdown",
   "metadata": {},
   "source": [
    "Create OSC Bundles"
   ]
  },
  {
   "cell_type": "code",
   "execution_count": null,
   "metadata": {},
   "outputs": [],
   "source": [
    "with sc.server.bundler() as bundler:\n",
    "    scn.Synth(\"random\")\n",
    "    bundler.wait(0.2)\n",
    "    scn.Synth(\"random\")\n",
    "    bundler.wait(0.5)"
   ]
  },
  {
   "cell_type": "markdown",
   "metadata": {},
   "source": [
    "Execute SuperCollider Language Code"
   ]
  },
  {
   "cell_type": "code",
   "execution_count": null,
   "metadata": {},
   "outputs": [],
   "source": [
    "breakfast = \"eggs\"\n",
    "sc.lang.cmdv('^breakfast.scramble;')"
   ]
  },
  {
   "cell_type": "markdown",
   "metadata": {},
   "source": [
    "Get results from SuperCollider Language in python"
   ]
  },
  {
   "cell_type": "code",
   "execution_count": null,
   "metadata": {},
   "outputs": [],
   "source": [
    "x = 5\n",
    "value = %scg (1..^x)\n",
    "print(f\"received {value} with type {type(value)}\")"
   ]
  },
  {
   "cell_type": "markdown",
   "metadata": {},
   "source": [
    "OSC messaging : f.e. free sclang Synth with OSC message"
   ]
  },
  {
   "cell_type": "code",
   "execution_count": null,
   "metadata": {},
   "outputs": [],
   "source": [
    "nodeid = %scg x = Synth(\"default\"); x.nodeID;"
   ]
  },
  {
   "cell_type": "code",
   "execution_count": null,
   "metadata": {},
   "outputs": [],
   "source": [
    "sc.server.msg(\"/n_free\", nodeid)"
   ]
  },
  {
   "cell_type": "markdown",
   "metadata": {},
   "source": [
    "## Further informations\n",
    "\n",
    "For more details on the specific parts please refer to the User Guide.\n",
    "\n",
    "- [SuperCollider Language **sclang**](./sclang-examples.ipynb)\n",
    "\n",
    "- Usage of the SuperCollider Objects python interface\n",
    "  - [Server](./supercollider-objects/server-examples.ipynb)\n",
    "  - [Nodes (Synth and Group)](./supercollider-objects/node-examples.ipynb)\n",
    "  - [SynthDef](./supercollider-objects/synthdef-examples.ipynb)\n",
    "  - [Buffer](./supercollider-objects/buffer-examples.ipynb)\n",
    "  - [Bus](./supercollider-objects/bus-examples.ipynb)\n",
    "  - [Recorder](./supercollider-objects/recorder-examples.ipynb)\n",
    "\n",
    "\n",
    "- Usage of common SuperCollider functions [Helpers](./helper-examples.ipynb)\n",
    "- Usage of OSC in SuperCollider: [OSC Communication](./osc-communication-example.ipynb)"
   ]
  },
  {
   "cell_type": "markdown",
   "metadata": {},
   "source": [
    "## How does this work?\n",
    "\n",
    "- **sclang** and **scsynth** are started as subprocesses and thier outputs is collected. \n",
    "- **scsynth** is then controlled via OSC\n",
    "  * Direct control of the server shortcuts a detour via sclang and is both more efficient and promises a lower latency\n",
    "- **sclang** communication is done with pipes and OSC for receiving return values\n",
    "\n"
   ]
  },
  {
   "cell_type": "markdown",
   "metadata": {},
   "source": [
    "## Caveats and Problems\n",
    "\n",
    "We strongly encourage you to share any problems that arise using sc3nb with us.\n",
    "\n",
    "There are some things to consider when using sc3nb.\n",
    "\n",
    "\n",
    "- The shortcut `ctrl/cmd + .` does currently only works in classic Jupyter notebooks not in JupyterLab. It also will import sc3nb as `sc3nb` and thus you should avoid variables with the name `sc3nb`.\n",
    "- We depend on the output to stdout of sclang and scsynth in some cases like the startup of the server or more obviously for the sclang output when using cmd with verbosity. This means if some language settings or updates of sclang/scsynth change the outputs to something that we don't expect stuff will fail. However this should be quite easy to patch.\n",
    "- There is a bug in Jupyter (https://github.com/jupyter/jupyter_client/issues/104) that does leave sclang and scsynth running when restarting the Jupyter kernel. However calling `exit()` on the SC instance will kill them. To aviod conflicts with orphaned sclangs/scsynths we also look for leftover sclang/scsynth processes on the start of each and will try to kill them. This might lead to killing sclang or scsynth processes that you wanted to keep. You can specify which parent processes are allowed for sclang/scsynth processes with the `allowed_parents` paramter.\n",
    "- The SuperCollider Objects are currently not guaranteed to be thread safe.\n",
    "- Another thing about SuperCollider in general is to keep in mind that there are limits in the network communication. Currently we only support UDP and therefore have the corresponding limits. As an example a Bundler will fail when you try to send too many messages."
   ]
  },
  {
   "cell_type": "markdown",
   "metadata": {},
   "source": [
    "## Contributing\n",
    "\n",
    "Please get in touch with us if you wish to contribute. We are happy to be involved in the discussion of new features and to receive pull requests."
   ]
  },
  {
   "cell_type": "markdown",
   "metadata": {},
   "source": [
    "## Useful Ressources\n",
    "\n",
    "If you are looking for more information about SuperCollider you should checkout the following links\n",
    "- [SuperCollider website](https://supercollider.github.io/)\n",
    "- [SuperCollider on GitHub](https://github.com/supercollider/supercollider)\n",
    "\n",
    "\n",
    "- [SuperCollider documentation and help](https://doc.sccode.org/)\n",
    "  - [Client vs Server](https://doc.sccode.org/Guides/ClientVsServer.html)\n",
    "  - [Server Architecture - Main Design Concepts](https://doc.sccode.org/Reference/Server-Architecture.html)\n",
    "  - [Server Command Reference](https://doc.sccode.org/Reference/Server-Command-Reference.html)\n",
    "  - [Server Guide](https://doc.sccode.org/Guides/Server-Guide.html)\n",
    "  - [Multi-client Setups](https://doc.sccode.org/Guides/MultiClient_Setups.html)\n",
    "  - [OSC Communication](https://doc.sccode.org/Guides/OSC_communication.html)\n",
    "\n",
    "\n",
    "- SuperCollider Language\n",
    "   - [sclang Startup File](https://doc.sccode.org/Reference/StartupFile.html)\n",
    "   - [Symbolic Notations](https://doc.sccode.org/Overviews/SymbolicNotations.html)\n",
    "   - [Operators](https://doc.sccode.org/Overviews/Operators.html)\n",
    "   - [Syntax Shortcuts](https://doc.sccode.org/Reference/Syntax-Shortcuts.html)\n"
   ]
  },
  {
   "cell_type": "code",
   "execution_count": null,
   "metadata": {},
   "outputs": [],
   "source": [
    "sc.exit()  # To shut down the server and sclang subprocesses"
   ]
  },
  {
   "cell_type": "code",
   "execution_count": null,
   "metadata": {},
   "outputs": [],
   "source": []
  }
 ],
 "metadata": {
  "hide_input": false,
  "toc": {
   "base_numbering": 1,
   "nav_menu": {},
   "number_sections": true,
   "sideBar": true,
   "skip_h1_title": true,
   "title_cell": "Table of Contents",
   "title_sidebar": "Contents",
   "toc_cell": false,
   "toc_position": {},
   "toc_section_display": true,
   "toc_window_display": false
  }
 },
 "nbformat": 4,
 "nbformat_minor": 4
}
