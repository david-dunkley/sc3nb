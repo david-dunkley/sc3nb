{
 "cells": [
  {
   "cell_type": "markdown",
   "metadata": {},
   "source": [
    "# sc3nb Test cases"
   ]
  },
  {
   "cell_type": "code",
   "execution_count": null,
   "metadata": {},
   "outputs": [],
   "source": [
    "%load_ext autoreload\n",
    "%autoreload 2\n",
    "\n",
    "import logging\n",
    "logging.basicConfig(level=logging.DEBUG)"
   ]
  },
  {
   "cell_type": "code",
   "execution_count": null,
   "metadata": {},
   "outputs": [],
   "source": [
    "import sys, time, random, os\n",
    "import numpy as np\n",
    "\n",
    "import pythonosc.parsing.osc_types as osc_types\n",
    "import sc3nb as scn\n",
    "\n",
    "#from sc3nb import *"
   ]
  },
  {
   "cell_type": "code",
   "execution_count": null,
   "metadata": {},
   "outputs": [],
   "source": [
    "if 'sc' in locals() and sc is not None and isinstance(sc, scn.SC):\n",
    "    sc.exit()"
   ]
  },
  {
   "cell_type": "code",
   "execution_count": null,
   "metadata": {},
   "outputs": [],
   "source": [
    "sc = scn.startup(start_sclang=False)#scsynth_options=scn.ServerOptions(udp_port=57111)) "
   ]
  },
  {
   "cell_type": "code",
   "execution_count": null,
   "metadata": {},
   "outputs": [],
   "source": [
    "sc.server.blip()"
   ]
  },
  {
   "cell_type": "code",
   "execution_count": null,
   "metadata": {},
   "outputs": [],
   "source": [
    "sc.server.dump_osc()"
   ]
  },
  {
   "cell_type": "code",
   "execution_count": null,
   "metadata": {},
   "outputs": [],
   "source": [
    "from sc3nb import Bundler"
   ]
  },
  {
   "cell_type": "code",
   "execution_count": null,
   "metadata": {},
   "outputs": [],
   "source": [
    "x = Bundler(0.1, \"/s_new\", [\"s1\", -1, 1, 1, \"freq\", 500, \"dur\", 0.1, \"num\", 1])"
   ]
  },
  {
   "cell_type": "code",
   "execution_count": null,
   "metadata": {},
   "outputs": [],
   "source": [
    "x.send()"
   ]
  },
  {
   "cell_type": "code",
   "execution_count": null,
   "metadata": {},
   "outputs": [],
   "source": [
    "with Bundler(0.1) as bx:\n",
    "    bx.add(x)\n",
    "    bx.wait(0.05)\n",
    "    bx.add(x)"
   ]
  },
  {
   "cell_type": "code",
   "execution_count": null,
   "metadata": {},
   "outputs": [],
   "source": [
    "with scn.Bundler(0.1) as beep:\n",
    "    beep.add(scn.Bundler(0.31, \"/s_new\", [\"s2\", -1, 1, 1, \"freq\", 1000, \"amp\", 0.05, \"num\", 2]))\n",
    "    beep.add(scn.Bundler(0.41, \"/n_free\", [-1]))"
   ]
  },
  {
   "cell_type": "code",
   "execution_count": null,
   "metadata": {},
   "outputs": [],
   "source": [
    "with scn.Bundler(0.1) as b:\n",
    "    b.add(bx)\n",
    "    b.wait(0.5)\n",
    "    b.add(bx)\n",
    "    b.wait(0.5)\n",
    "    b.add(b)\n",
    "    b.add(beep)\n",
    "    b.add(b)"
   ]
  },
  {
   "cell_type": "code",
   "execution_count": null,
   "metadata": {},
   "outputs": [],
   "source": [
    "with scn.Bundler(1) as b:\n",
    "    syn1 = scn.Synth(\"s2\")\n",
    "    b.wait(1.0)\n",
    "    syn2 = scn.Synth(\"s2\", {\"freq\": 200})\n",
    "    b.wait(0.5)\n",
    "    syn1.free()\n",
    "    b.wait(0.5)\n",
    "    syn2.free()"
   ]
  },
  {
   "cell_type": "code",
   "execution_count": null,
   "metadata": {},
   "outputs": [],
   "source": [
    "for p in [0,2,4,7,5,5,9,7,7,12,11,12,7,4,0,2,4,5,7,9,7,5,4,2,4,0,-1,0,2,-5,-1,2,5,4,2,4]:\n",
    "    freq = scn.midicps(60+p)  # see helper fns below\n",
    "    sc.server.msg(\"/s_new\", [\"s1\", -1, 1, 0, \"freq\", freq, \"dur\", 0.5, \"num\", 1])\n",
    "    time.sleep(0.15)"
   ]
  },
  {
   "cell_type": "code",
   "execution_count": null,
   "metadata": {},
   "outputs": [],
   "source": [
    "with scn.Bundler(0.2) as b:\n",
    "    for p in [0,2,4,7,5,5,9,7,7,12,11,12,7,4,0,2,4,5,7,9,7,5,4,2,4,0,-1,0,2,-5,-1,2,5,4,2,4]:\n",
    "        freq = scn.midicps(60+p)  # see helper fns below\n",
    "        scn.Synth(\"s1\", {\"freq\": freq, \"dur\": 0.5, \"num\": 1})\n",
    "        b.wait(0.15)"
   ]
  },
  {
   "cell_type": "code",
   "execution_count": null,
   "metadata": {},
   "outputs": [],
   "source": [
    "with scn.Bundler(0.2) as b:\n",
    "    for _ in range(15):\n",
    "        freq = scn.midicps(60+p)  # see helper fns below\n",
    "        scn.Synth(\"s1\", {\"freq\": freq, \"dur\": 0.1, \"num\": 1})\n",
    "        b.wait(1)"
   ]
  },
  {
   "cell_type": "code",
   "execution_count": null,
   "metadata": {},
   "outputs": [],
   "source": [
    "for _ in range(15):\n",
    "    freq = scn.midicps(60+p)  # see helper fns below\n",
    "    scn.Synth(\"s1\", {\"freq\": freq, \"dur\": 0.1, \"num\": 1})\n",
    "    time.sleep(1/(100/60))"
   ]
  },
  {
   "cell_type": "code",
   "execution_count": null,
   "metadata": {},
   "outputs": [],
   "source": [
    "b.send()"
   ]
  },
  {
   "cell_type": "code",
   "execution_count": null,
   "metadata": {},
   "outputs": [],
   "source": [
    "isinstance(scn.Bundler(0.11, \"/s_new\", [\"s1\", -1, 1, 1, \"freq\", 500, \"dur\", 0.1, \"num\", 1]), scn.Bundler)"
   ]
  },
  {
   "cell_type": "code",
   "execution_count": null,
   "metadata": {},
   "outputs": [],
   "source": [
    "with scn.Bundler(0.5) as b:\n",
    "    b.add(scn.Bundler(0.0, \"/s_new\", [\"s2\", -1, 1, 1, \"freq\", 1000, \"amp\", 0.05, \"num\", 2]))\n",
    "    b.add(scn.Bundler(0.5, \"/n_free\", [-1]))"
   ]
  },
  {
   "cell_type": "code",
   "execution_count": null,
   "metadata": {},
   "outputs": [],
   "source": [
    "with scn.Bundler(0.5) as b:\n",
    "    b.add(scn.Bundler(0.0, \"/s_new\", [\"s2\", -1, 1, 1, \"freq\", 1000, \"amp\", 0.05, \"num\", 2]))\n",
    "    b.wait(0.5)\n",
    "    b.add(scn.Bundler(0.0, \"/n_free\", [-1]))"
   ]
  },
  {
   "cell_type": "code",
   "execution_count": null,
   "metadata": {},
   "outputs": [],
   "source": [
    "with scn.Bundler(0.0) as b:\n",
    "    b.add(scn.Bundler(0.0, \"/s_new\", [\"s2\", -1, 1, 1, \"freq\", 1000, \"amp\", 0.05, \"num\", 2]))\n",
    "    b.add(scn.Bundler(0.0, \"/n_free\", [-1]))"
   ]
  },
  {
   "cell_type": "code",
   "execution_count": null,
   "metadata": {},
   "outputs": [],
   "source": [
    "blip = scn.Bundler()\n",
    "blip.add(0.11, \"/s_new\", [\"s1\", -1, 1, 1, \"freq\", 500, \"dur\", 0.1, \"num\", 1])\n",
    "blip.add(0.31, \"/s_new\", [\"s2\", -1, 1, 1, \"freq\", 1000, \"amp\", 0.05, \"num\", 2])\n",
    "blip.add(0.41, \"/n_free\", [-1])\n",
    "blip.send()"
   ]
  },
  {
   "cell_type": "code",
   "execution_count": null,
   "metadata": {},
   "outputs": [],
   "source": [
    "with scn.Bundler() as b:\n",
    "    b.wait(0.6)\n",
    "    b.add(blip)\n",
    "    b.wait(0.6)\n",
    "    b.add(blip)\n",
    "    b.wait(1.2)\n",
    "    b.add(blip)\n",
    "    b.wait(0.6)\n",
    "    b.add(blip)"
   ]
  },
  {
   "cell_type": "code",
   "execution_count": null,
   "metadata": {},
   "outputs": [],
   "source": [
    "with scn.Bundler(0.1) as b:\n",
    "    b.add(0.0, \"/s_new\", [\"s2\", 10001, 1, 1, \"freq\", 1000, \"amp\", 0.05, \"num\", 2])\n",
    "    b.add(0.2, \"/n_free\", [10001])\n",
    "    b.wait(1.0)\n",
    "    b.add(blip)\n",
    "    b.wait(1.0)\n",
    "    b.add(0.11, \"/s_new\", [\"s1\", 10003, 1, 1, \"freq\", 500, \"dur\", 0.1, \"num\", 1])\n",
    "    b.add(0.31, \"/s_new\", [\"s2\", 10004, 1, 1, \"freq\", 1000, \"amp\", 0.05, \"num\", 2])\n",
    "    b.add(0.41, \"/n_free\", [10004])"
   ]
  },
  {
   "cell_type": "code",
   "execution_count": null,
   "metadata": {},
   "outputs": [],
   "source": [
    "b.send()"
   ]
  },
  {
   "cell_type": "code",
   "execution_count": null,
   "metadata": {},
   "outputs": [],
   "source": [
    "sc.server.blip()"
   ]
  },
  {
   "cell_type": "code",
   "execution_count": null,
   "metadata": {},
   "outputs": [],
   "source": [
    "sc.server.free_all()"
   ]
  },
  {
   "cell_type": "markdown",
   "metadata": {},
   "source": [
    "no_sclang_tests"
   ]
  },
  {
   "cell_type": "code",
   "execution_count": null,
   "metadata": {},
   "outputs": [],
   "source": [
    "assert sc.lang == None"
   ]
  },
  {
   "cell_type": "code",
   "execution_count": null,
   "metadata": {},
   "outputs": [],
   "source": [
    "runtime_warning = False\n",
    "try:\n",
    "    sc.lang(\"s;\")\n",
    "except RuntimeWarning:\n",
    "    runtime_warning = True\n",
    "assert runtime_warning"
   ]
  },
  {
   "cell_type": "code",
   "execution_count": null,
   "metadata": {},
   "outputs": [],
   "source": [
    "del h"
   ]
  },
  {
   "cell_type": "code",
   "execution_count": null,
   "metadata": {},
   "outputs": [],
   "source": [
    "amp_val = 0.1\n",
    "h = scn.Synth(\"s2\", {\"amp\": amp_val})\n",
    "assert np.allclose(h.amp, amp_val)"
   ]
  },
  {
   "cell_type": "code",
   "execution_count": null,
   "metadata": {},
   "outputs": [],
   "source": [
    "attribute_error = False;\n",
    "try:\n",
    "    object.__getattribute__(h, \"freq\")\n",
    "except AttributeError:\n",
    "    attribute_error = True\n",
    "assert attribute_error"
   ]
  },
  {
   "cell_type": "code",
   "execution_count": null,
   "metadata": {},
   "outputs": [],
   "source": [
    "attribute_error = False;\n",
    "try:\n",
    "    h.freq\n",
    "except AttributeError:\n",
    "    attribute_error = True\n",
    "assert attribute_error"
   ]
  },
  {
   "cell_type": "code",
   "execution_count": null,
   "metadata": {},
   "outputs": [],
   "source": [
    "#with self.assertWarns(UserWarning):\n",
    "h.freq = 200"
   ]
  },
  {
   "cell_type": "code",
   "execution_count": null,
   "metadata": {},
   "outputs": [],
   "source": [
    "h.freq"
   ]
  },
  {
   "cell_type": "code",
   "execution_count": null,
   "metadata": {},
   "outputs": [],
   "source": [
    "h.set(\"amp\", 0.01)"
   ]
  },
  {
   "cell_type": "code",
   "execution_count": null,
   "metadata": {},
   "outputs": [],
   "source": [
    "h.set(\"freq\", 200)"
   ]
  },
  {
   "cell_type": "code",
   "execution_count": null,
   "metadata": {},
   "outputs": [],
   "source": [
    "h.__setattr__(\"amp\", 0.05)"
   ]
  },
  {
   "cell_type": "code",
   "execution_count": null,
   "metadata": {},
   "outputs": [],
   "source": [
    "h.amp"
   ]
  },
  {
   "cell_type": "code",
   "execution_count": null,
   "metadata": {},
   "outputs": [],
   "source": [
    "h.amp = 0.01"
   ]
  },
  {
   "cell_type": "code",
   "execution_count": null,
   "metadata": {},
   "outputs": [],
   "source": [
    "h.freq += 10"
   ]
  },
  {
   "cell_type": "code",
   "execution_count": null,
   "metadata": {},
   "outputs": [],
   "source": [
    "h.amp"
   ]
  },
  {
   "cell_type": "code",
   "execution_count": null,
   "metadata": {},
   "outputs": [],
   "source": [
    "h.free()"
   ]
  },
  {
   "cell_type": "code",
   "execution_count": null,
   "metadata": {},
   "outputs": [],
   "source": [
    "sc.server.free_all()"
   ]
  },
  {
   "cell_type": "code",
   "execution_count": null,
   "metadata": {},
   "outputs": [],
   "source": [
    "sc.server.notify()"
   ]
  },
  {
   "cell_type": "code",
   "execution_count": null,
   "metadata": {},
   "outputs": [],
   "source": [
    "sc.server.msg(\"/status\")"
   ]
  },
  {
   "cell_type": "code",
   "execution_count": null,
   "metadata": {},
   "outputs": [],
   "source": [
    "    #b.add(scn.build_message(\"/s_new\", [\"s1\", -1, 1, 1, \"freq\", 500, \"dur\", 0.1, \"num\", 1]))"
   ]
  },
  {
   "cell_type": "code",
   "execution_count": null,
   "metadata": {},
   "outputs": [],
   "source": [
    "sc.server.init()"
   ]
  },
  {
   "cell_type": "code",
   "execution_count": null,
   "metadata": {},
   "outputs": [],
   "source": [
    "sc.server.msg(\"/version\")"
   ]
  },
  {
   "cell_type": "code",
   "execution_count": null,
   "metadata": {},
   "outputs": [],
   "source": [
    "sc.server.free_all()"
   ]
  },
  {
   "cell_type": "code",
   "execution_count": null,
   "metadata": {},
   "outputs": [],
   "source": [
    "sc.server.dump_osc()"
   ]
  },
  {
   "cell_type": "code",
   "execution_count": null,
   "metadata": {},
   "outputs": [],
   "source": [
    "scn.Synth(\"s1\")"
   ]
  },
  {
   "cell_type": "code",
   "execution_count": null,
   "metadata": {},
   "outputs": [],
   "source": [
    "sc.lang.connect_to_server()"
   ]
  },
  {
   "cell_type": "code",
   "execution_count": null,
   "metadata": {},
   "outputs": [],
   "source": [
    "sc.server.blip()"
   ]
  },
  {
   "cell_type": "code",
   "execution_count": null,
   "metadata": {},
   "outputs": [],
   "source": [
    "sc.server.free_all()"
   ]
  },
  {
   "cell_type": "code",
   "execution_count": null,
   "metadata": {},
   "outputs": [],
   "source": [
    "sc.server.notify()"
   ]
  },
  {
   "cell_type": "markdown",
   "metadata": {},
   "source": [
    "testing lag"
   ]
  },
  {
   "cell_type": "code",
   "execution_count": null,
   "metadata": {},
   "outputs": [],
   "source": [
    "sc.start_sclang()"
   ]
  },
  {
   "cell_type": "code",
   "execution_count": null,
   "metadata": {},
   "outputs": [],
   "source": [
    "scn.SynthDef.synth_descs.get(\"s1\")"
   ]
  },
  {
   "cell_type": "code",
   "execution_count": null,
   "metadata": {},
   "outputs": [],
   "source": [
    "scn.SynthDef.get_desc(\"s1\")"
   ]
  },
  {
   "cell_type": "code",
   "execution_count": null,
   "metadata": {},
   "outputs": [],
   "source": []
  },
  {
   "cell_type": "code",
   "execution_count": null,
   "metadata": {},
   "outputs": [],
   "source": [
    "scn.Synth(\"s1\")"
   ]
  },
  {
   "cell_type": "code",
   "execution_count": null,
   "metadata": {},
   "outputs": [],
   "source": [
    "num_msg = 200"
   ]
  },
  {
   "cell_type": "code",
   "execution_count": null,
   "metadata": {},
   "outputs": [],
   "source": [
    "scn.SynthDef.synth_descs"
   ]
  },
  {
   "cell_type": "code",
   "execution_count": null,
   "metadata": {},
   "outputs": [],
   "source": [
    "syns = [scn.Synth(\"s1\", dict(dur=0.005), new=False) for _ in range(num_msg)]"
   ]
  },
  {
   "cell_type": "code",
   "execution_count": null,
   "metadata": {},
   "outputs": [],
   "source": [
    "syns[0].new({\"dur\": 5}) "
   ]
  },
  {
   "cell_type": "code",
   "execution_count": null,
   "metadata": {},
   "outputs": [],
   "source": [
    "syns[0].freq = 150 "
   ]
  },
  {
   "cell_type": "code",
   "execution_count": null,
   "metadata": {},
   "outputs": [],
   "source": [
    "sc.server.process.read()"
   ]
  },
  {
   "cell_type": "code",
   "execution_count": null,
   "metadata": {},
   "outputs": [],
   "source": [
    "import pythonosc"
   ]
  },
  {
   "cell_type": "code",
   "execution_count": null,
   "metadata": {},
   "outputs": [],
   "source": [
    "bundles = [sc.server.bundle(0).add(synth.new(return_msg=True)).send() for synth in syns]"
   ]
  },
  {
   "cell_type": "code",
   "execution_count": null,
   "metadata": {},
   "outputs": [],
   "source": [
    "latelines = sc.server.process.read()"
   ]
  },
  {
   "cell_type": "code",
   "execution_count": null,
   "metadata": {},
   "outputs": [],
   "source": [
    "lates = np.array(list(map(lambda s: float(s[5:]), latelines.splitlines())))"
   ]
  },
  {
   "cell_type": "code",
   "execution_count": null,
   "metadata": {},
   "outputs": [],
   "source": [
    "lates.min(), lates.max()"
   ]
  },
  {
   "cell_type": "code",
   "execution_count": null,
   "metadata": {},
   "outputs": [],
   "source": [
    "lates.mean(), lates.std()"
   ]
  },
  {
   "cell_type": "code",
   "execution_count": null,
   "metadata": {},
   "outputs": [],
   "source": [
    "sc.server.process.read()"
   ]
  },
  {
   "cell_type": "code",
   "execution_count": null,
   "metadata": {},
   "outputs": [],
   "source": [
    "%sc 200.do({ s.makeBundle(0.0, { Synth(\\s1, [\\dur, 0.005]); })})"
   ]
  },
  {
   "cell_type": "code",
   "execution_count": null,
   "metadata": {},
   "outputs": [],
   "source": [
    "latelines = sc.server.process.read()"
   ]
  },
  {
   "cell_type": "code",
   "execution_count": null,
   "metadata": {},
   "outputs": [],
   "source": [
    "lates = np.array(list(map(lambda s: float(s[5:]), latelines.splitlines())))"
   ]
  },
  {
   "cell_type": "code",
   "execution_count": null,
   "metadata": {},
   "outputs": [],
   "source": [
    "lates.min(), lates.max()"
   ]
  },
  {
   "cell_type": "code",
   "execution_count": null,
   "metadata": {},
   "outputs": [],
   "source": [
    "lates.mean(), lates.std()"
   ]
  },
  {
   "cell_type": "markdown",
   "metadata": {},
   "source": [
    "**BUG** bundle nesting"
   ]
  },
  {
   "cell_type": "code",
   "execution_count": null,
   "metadata": {},
   "outputs": [],
   "source": [
    "sc.server.bundle(0, \"/s_new\", [\"s2\", 1200, 1, 0, \"amp\", 0.04]).send()\n",
    "sc.server.bundle(0.2, \"/n_set\", [1200, \"freq\", 200, \"num\", 1, \"amp\", 0.2, \"pan\", 0]).send()\n",
    "sc.server.bundle(0.4, \"/n_free\", 1200).send()"
   ]
  },
  {
   "cell_type": "code",
   "execution_count": null,
   "metadata": {},
   "outputs": [],
   "source": [
    "sc.server.process.read()"
   ]
  },
  {
   "cell_type": "code",
   "execution_count": null,
   "metadata": {},
   "outputs": [],
   "source": [
    "t1 = time.time()\n",
    "blip_bundle = sc.server.bundle(t1)\n",
    "blip_bundle.add_msg(\"/s_new\", [\"s1\", -1, 1, 1, \"freq\", 500, \"dur\", 0.1, \"num\", 1])\n",
    "blip_bundle.add(sc.server.bundle(t1+0.6, \"/s_new\", [\"s2\", -1, 1, 1, \"freq\", 1000, \"amp\", 0.05, \"num\", 2]))\n",
    "blip_bundle.add(sc.server.bundle(t1+0.6+0.5, \"/n_free\", [-1]))\n",
    "sc.server.send(blip_bundle.build())"
   ]
  },
  {
   "cell_type": "code",
   "execution_count": null,
   "metadata": {},
   "outputs": [],
   "source": [
    "t1 = time.time() + 0.1\n",
    "blip_bundle = sc.server.bundle(t1)\n",
    "blip_bundle.add(sc.server.bundle(t1+0.0, \"/s_new\", [\"s1\", -1, 1, 1, \"freq\", 500, \"dur\", 0.1, \"num\", 1]))\n",
    "blip_bundle.add(sc.server.bundle(t1+0.6, \"/s_new\", [\"s2\", -1, 1, 1, \"freq\", 1000, \"amp\", 0.05, \"num\", 2]))\n",
    "blip_bundle.add(sc.server.bundle(t1+0.6+0.5, \"/n_free\", [-1]))\n",
    "sc.server.send(blip_bundle.build())"
   ]
  },
  {
   "cell_type": "code",
   "execution_count": null,
   "metadata": {},
   "outputs": [],
   "source": [
    "sc.server.dump_osc(1)"
   ]
  },
  {
   "cell_type": "markdown",
   "metadata": {},
   "source": [
    "**BUG** stdin write"
   ]
  },
  {
   "cell_type": "code",
   "execution_count": null,
   "metadata": {},
   "outputs": [],
   "source": [
    "a = sc.lang.process.stdin.write(r\"\"\"x = Synth.new(\\default, [\\freq, 100]);\"\"\"+\"\\n\\f\")\n",
    "sc.lang.process.stdin.flush()\n",
    "b = sc.lang.process.stdin.write(r\"\"\"x.free;\"\"\"+\"\\n\\f\")\n",
    "a, b"
   ]
  },
  {
   "cell_type": "code",
   "execution_count": null,
   "metadata": {},
   "outputs": [],
   "source": [
    "%sc \"Go\"\n",
    "for p in range(1, 3):  # a bouncing ball\n",
    "    %sc Synth.new(\\s1, [\\freq, 200+^p])  // this is sc cell so use sc3 comments instead of #"
   ]
  },
  {
   "cell_type": "code",
   "execution_count": null,
   "metadata": {},
   "outputs": [],
   "source": [
    "sc.server.free_all()"
   ]
  },
  {
   "cell_type": "markdown",
   "metadata": {},
   "source": [
    "Buffer tests"
   ]
  },
  {
   "cell_type": "code",
   "execution_count": null,
   "metadata": {},
   "outputs": [],
   "source": [
    "bufdata = np.random.rand(30000, 1)\n",
    "buf = Buffer().load_data(bufdata)\n",
    "np.allclose(buf.to_array(), bufdata)"
   ]
  },
  {
   "cell_type": "code",
   "execution_count": null,
   "metadata": {},
   "outputs": [],
   "source": []
  },
  {
   "cell_type": "markdown",
   "metadata": {},
   "source": [
    "convert_to_sc_tests"
   ]
  },
  {
   "cell_type": "code",
   "execution_count": null,
   "metadata": {},
   "outputs": [],
   "source": [
    "assert \"Array\" in sc.lang.cmd(\"\"\"[1,2,3,4].class\"\"\", get_output=True)"
   ]
  },
  {
   "cell_type": "code",
   "execution_count": null,
   "metadata": {},
   "outputs": [],
   "source": [
    "assert \"Array\" in sc.lang.cmd(\"\"\"[1,2,3,4].class\"\"\", get_output=True)"
   ]
  },
  {
   "cell_type": "code",
   "execution_count": null,
   "metadata": {},
   "outputs": [],
   "source": [
    "python_list = [1,2,3,4]\n",
    "assert \"Array\" in sc.lang.cmd(\"\"\"^python_list.class\"\"\", get_output=True)"
   ]
  },
  {
   "cell_type": "code",
   "execution_count": null,
   "metadata": {},
   "outputs": [],
   "source": [
    "np_array = np.array([1,2,3,4])\n",
    "assert \"Array\" in sc.lang.cmd(\"\"\"^np_array.class\"\"\", get_output=True)"
   ]
  },
  {
   "cell_type": "markdown",
   "metadata": {},
   "source": [
    "cmdg tests"
   ]
  },
  {
   "cell_type": "code",
   "execution_count": null,
   "metadata": {},
   "outputs": [],
   "source": [
    "sc_val = sc.lang.cmdg(\"\"\"1234+23452\"\"\")\n",
    "assert type(sc_val) == int\n",
    "assert sc_val == 1234+23452"
   ]
  },
  {
   "cell_type": "code",
   "execution_count": null,
   "metadata": {},
   "outputs": [],
   "source": [
    "sc_val = sc.lang.cmdg(\"\"\"1234.5.squared\"\"\")\n",
    "assert type(sc_val) == float\n",
    "assert sc_val == 1234.5**2"
   ]
  },
  {
   "cell_type": "code",
   "execution_count": null,
   "metadata": {},
   "outputs": [],
   "source": [
    "sc_val = sc.lang.cmdg('''\"soni\"++\"fication\"''')\n",
    "assert type(sc_val) == str\n",
    "assert sc_val == \"soni\"+\"fication\""
   ]
  },
  {
   "cell_type": "code",
   "execution_count": null,
   "metadata": {},
   "outputs": [],
   "source": [
    "sc_val = sc.lang.cmdg(\"\"\"(1,1.1..2)\"\"\")\n",
    "assert type(sc_val) == list\n",
    "assert np.allclose(sc_val, np.arange(1.0,2.0,0.1)) "
   ]
  },
  {
   "cell_type": "code",
   "execution_count": null,
   "metadata": {},
   "outputs": [],
   "source": [
    "pylist = [[1]]\n",
    "sc_val = sc.lang.cmdg(f\"\"\"{pylist.__repr__()}\"\"\")\n",
    "assert type(sc_val) == list\n",
    "assert sc_val == pylist "
   ]
  },
  {
   "cell_type": "code",
   "execution_count": null,
   "metadata": {},
   "outputs": [],
   "source": [
    "pylist = [[[1]]]\n",
    "sc_val = sc.lang.cmdg(f\"\"\"{pylist.__repr__()}\"\"\")\n",
    "assert type(sc_val) == list\n",
    "assert sc_val == pylist "
   ]
  },
  {
   "cell_type": "code",
   "execution_count": null,
   "metadata": {},
   "outputs": [],
   "source": [
    "pylist = [[1],[1]]\n",
    "sc_val = sc.lang.cmdg(f\"\"\"{pylist.__repr__()}\"\"\")\n",
    "assert type(sc_val) == list\n",
    "assert sc_val == pylist "
   ]
  },
  {
   "cell_type": "code",
   "execution_count": null,
   "metadata": {},
   "outputs": [],
   "source": [
    "pylist = [[1.0, 1.0],\n",
    " [1.100000023841858, 1.100000023841858],\n",
    " [1.2000000476837158, 1.2000000476837158],\n",
    " [1.2999999523162842, 1.2999999523162842],\n",
    " [1.399999976158142, 1.399999976158142],\n",
    " [1.5, 1.5],\n",
    " [1.600000023841858, 1.600000023841858],\n",
    " [1.7000000476837158, 1.7000000476837158],\n",
    " [1.7999999523162842, 1.7999999523162842],\n",
    " [1.899999976158142, 1.899999976158142]]\n",
    "sc_val = sc.lang.cmdg(f\"\"\"{pylist.__repr__()}\"\"\")\n",
    "assert type(sc_val) == list\n",
    "assert sc_val == pylist "
   ]
  },
  {
   "cell_type": "code",
   "execution_count": null,
   "metadata": {},
   "outputs": [],
   "source": [
    "expected_controls = [['out', 'scalar', 0.0],\n",
    " ['freq', 'control', 440.0],\n",
    " ['amp', 'control', 0.10000000149011612],\n",
    " ['pan', 'control', 0.0],\n",
    " ['gate', 'control', 1.0]]\n",
    "controls = sc.lang.cmdg(r\"SynthDescLib.global['default'].controls.collect({ arg control; [control.name.asString, control.rate.asString, control.defaultValue]})\")\n",
    "assert controls == expected_controls"
   ]
  },
  {
   "cell_type": "markdown",
   "metadata": {},
   "source": [
    "Synth param setting/getting"
   ]
  },
  {
   "cell_type": "code",
   "execution_count": null,
   "metadata": {},
   "outputs": [],
   "source": [
    "freq = 42\n",
    "synth = Synth(name='default', args={\"freq\": freq, \"amp\": 0.0})\n",
    "assert synth.freq == freq\n",
    "synth.free()"
   ]
  },
  {
   "cell_type": "code",
   "execution_count": null,
   "metadata": {},
   "outputs": [],
   "source": []
  },
  {
   "cell_type": "code",
   "execution_count": null,
   "metadata": {},
   "outputs": [],
   "source": []
  },
  {
   "cell_type": "markdown",
   "metadata": {},
   "source": [
    "**BUG** nesting bundles"
   ]
  },
  {
   "cell_type": "code",
   "execution_count": null,
   "metadata": {},
   "outputs": [],
   "source": [
    "blip_bundle = bundle_builder(0)\n",
    "blip_bundle.add_msg(\"/s_new\", [\"s1\", -1, 1, 1, \"freq\", 500, \"dur\", 0.1, \"num\", 1])\n",
    "blip_bundle.add(bundle_builder(0.0, \"/s_new\", [\"s2\", -1, 1, 1, \"freq\", 1000, \"amp\", 0.05, \"num\", 2]))\n",
    "blip_bundle.add(bundle_builder(0.05, \"/n_free\", [-1]))\n",
    "sc.server.send(blip_bundle.build())"
   ]
  },
  {
   "cell_type": "markdown",
   "metadata": {},
   "source": [
    "## Process testing"
   ]
  },
  {
   "cell_type": "code",
   "execution_count": null,
   "metadata": {},
   "outputs": [],
   "source": [
    "sc.server.quit()"
   ]
  },
  {
   "cell_type": "code",
   "execution_count": null,
   "metadata": {},
   "outputs": [],
   "source": [
    "sc.server.boot()"
   ]
  },
  {
   "cell_type": "code",
   "execution_count": null,
   "metadata": {},
   "outputs": [],
   "source": [
    "sc.server.blip()"
   ]
  },
  {
   "cell_type": "code",
   "execution_count": null,
   "metadata": {},
   "outputs": [],
   "source": [
    "sc.server.process.read()"
   ]
  },
  {
   "cell_type": "code",
   "execution_count": null,
   "metadata": {},
   "outputs": [],
   "source": [
    "sc.server.sync()"
   ]
  },
  {
   "cell_type": "code",
   "execution_count": null,
   "metadata": {},
   "outputs": [],
   "source": [
    "sc.server.process.read()"
   ]
  },
  {
   "cell_type": "code",
   "execution_count": null,
   "metadata": {},
   "outputs": [],
   "source": [
    "Synth(\"s1\")"
   ]
  },
  {
   "cell_type": "code",
   "execution_count": null,
   "metadata": {},
   "outputs": [],
   "source": [
    "SC.default.server.free_all()"
   ]
  },
  {
   "cell_type": "code",
   "execution_count": null,
   "metadata": {},
   "outputs": [],
   "source": [
    "Synth(\"s2\")"
   ]
  },
  {
   "cell_type": "code",
   "execution_count": null,
   "metadata": {},
   "outputs": [],
   "source": [
    "sc.server.boot()"
   ]
  },
  {
   "cell_type": "code",
   "execution_count": null,
   "metadata": {},
   "outputs": [],
   "source": [
    "#sc.start_sclang()"
   ]
  },
  {
   "cell_type": "code",
   "execution_count": null,
   "metadata": {},
   "outputs": [],
   "source": [
    "sc.lang.process.popen.poll()"
   ]
  },
  {
   "cell_type": "code",
   "execution_count": null,
   "metadata": {},
   "outputs": [],
   "source": [
    "sc.server.quit()"
   ]
  },
  {
   "cell_type": "code",
   "execution_count": null,
   "metadata": {},
   "outputs": [],
   "source": [
    "%scv s.prepareForRecord;"
   ]
  },
  {
   "cell_type": "code",
   "execution_count": null,
   "metadata": {},
   "outputs": [],
   "source": [
    "sc.server.pid"
   ]
  },
  {
   "cell_type": "code",
   "execution_count": null,
   "metadata": {},
   "outputs": [],
   "source": [
    "sc.lang.kill()"
   ]
  },
  {
   "cell_type": "code",
   "execution_count": null,
   "metadata": {},
   "outputs": [],
   "source": [
    "sc.server.free_all()"
   ]
  },
  {
   "cell_type": "code",
   "execution_count": null,
   "metadata": {},
   "outputs": [],
   "source": [
    "synth_def = SynthDef(\"klank\", r\"\"\"\n",
    "{ |out=0, amp=0.3, freq=440|\n",
    "    var klank = DynKlank.ar(`[[1,2], [1,1], [1.4,1]], Dust.ar(20), freq);\n",
    "    Out.ar(out, amp*klank!2);\n",
    "}\"\"\")"
   ]
  },
  {
   "cell_type": "code",
   "execution_count": null,
   "metadata": {},
   "outputs": [],
   "source": [
    "synth_def.add()"
   ]
  },
  {
   "cell_type": "code",
   "execution_count": null,
   "metadata": {},
   "outputs": [],
   "source": [
    "synth = Synth(\"klank0\")"
   ]
  },
  {
   "cell_type": "code",
   "execution_count": null,
   "metadata": {},
   "outputs": [],
   "source": [
    "synth = Synth(\"s1\")"
   ]
  },
  {
   "cell_type": "code",
   "execution_count": null,
   "metadata": {},
   "outputs": [],
   "source": [
    "synth.new()"
   ]
  },
  {
   "cell_type": "code",
   "execution_count": null,
   "metadata": {},
   "outputs": [],
   "source": [
    "synth.freq = 50"
   ]
  },
  {
   "cell_type": "code",
   "execution_count": null,
   "metadata": {},
   "outputs": [],
   "source": [
    "synth.new()"
   ]
  },
  {
   "cell_type": "code",
   "execution_count": null,
   "metadata": {},
   "outputs": [],
   "source": [
    "synth.free()"
   ]
  },
  {
   "cell_type": "code",
   "execution_count": null,
   "metadata": {},
   "outputs": [],
   "source": [
    "synth.new()"
   ]
  },
  {
   "cell_type": "code",
   "execution_count": null,
   "metadata": {},
   "outputs": [],
   "source": [
    "sc.server.boot()"
   ]
  },
  {
   "cell_type": "code",
   "execution_count": null,
   "metadata": {},
   "outputs": [],
   "source": [
    "sc.server.blip()"
   ]
  },
  {
   "cell_type": "code",
   "execution_count": null,
   "metadata": {},
   "outputs": [],
   "source": [
    "sc.server.notify(1)"
   ]
  },
  {
   "cell_type": "code",
   "execution_count": null,
   "metadata": {},
   "outputs": [],
   "source": [
    "sc.server.dump_osc(1)"
   ]
  },
  {
   "cell_type": "code",
   "execution_count": null,
   "metadata": {},
   "outputs": [],
   "source": [
    "sc.lang.cmd(\"x = Synth(\\s2)\")"
   ]
  },
  {
   "cell_type": "code",
   "execution_count": null,
   "metadata": {},
   "outputs": [],
   "source": [
    "sc.lang.cmdv(\"s.defaultGroup\")"
   ]
  },
  {
   "cell_type": "code",
   "execution_count": null,
   "metadata": {},
   "outputs": [],
   "source": [
    "sc.lang.cmdg(\"x.nodeID\")"
   ]
  },
  {
   "cell_type": "code",
   "execution_count": null,
   "metadata": {},
   "outputs": [],
   "source": [
    "sc.lang.cmd(\"x.free\")"
   ]
  },
  {
   "cell_type": "code",
   "execution_count": null,
   "metadata": {},
   "outputs": [],
   "source": [
    "sc.server"
   ]
  },
  {
   "cell_type": "code",
   "execution_count": null,
   "metadata": {},
   "outputs": [],
   "source": [
    "sc.server.default_group.new()\n",
    "sc.server.sync()"
   ]
  },
  {
   "cell_type": "code",
   "execution_count": null,
   "metadata": {},
   "outputs": [],
   "source": [
    "now = time.time()\n",
    "s2_node_id = sc.server.next_node_id()\n",
    "target = 1\n",
    "bundle = bundle_builder(now)\n",
    "\n",
    "inner_bundle = (bundle_builder(now + 0.7)\n",
    "                .add_msg(\"/s_new\", [\"s1\", -1, 1, target, \"freq\", 400])\n",
    "                .add_msg(\"/n_query\", [-1])\n",
    "                .add_msg(\"/s_new\", [\"s2\", s2_node_id, 1, target, \"freq\", 100])\n",
    "                .add_msg(\"/n_query\", [-1])\n",
    ")\n",
    "bundle.add_content(inner_bundle.build())\n",
    "\n",
    "ib2 = (bundle_builder(now + 1.2)\n",
    "    .add_msg(\"/n_set\", [-1, \"freq\", 200])\n",
    "    .add_msg(\"/s_new\", [\"s1\", -1, 1, target, \"freq\", 800])\n",
    ")\n",
    "bundle.add_content(ib2.build())\n",
    "\n",
    "bundle.add_content(bundle_builder(now + 1.5).add_msg(\"/n_free\", [s2_node_id]).build())\n",
    "\n",
    "sc.server.send_bundle(bundle.build())"
   ]
  },
  {
   "cell_type": "code",
   "execution_count": null,
   "metadata": {},
   "outputs": [],
   "source": [
    "sc.server.pid"
   ]
  },
  {
   "cell_type": "code",
   "execution_count": null,
   "metadata": {},
   "outputs": [],
   "source": [
    "t1 = time.time()\n",
    "blip_bundle = bundle_builder(t1)\n",
    "blip_bundle.add_msg(\"/s_new\", [\"s1\", -1, 1, 1, \"freq\", 500, \"dur\", 0.1, \"num\", 1])\n",
    "blip_bundle.add(bundle_builder(t1+0.6, \"/s_new\", [\"s2\", -1, 1, 1, \"freq\", 1000, \"amp\", 0.05, \"num\", 2]))\n",
    "blip_bundle.add(bundle_builder(t1+0.6+0.5, \"/n_free\", [-1]))\n",
    "sc.server.send_bundle(blip_bundle.build())"
   ]
  },
  {
   "cell_type": "code",
   "execution_count": null,
   "metadata": {},
   "outputs": [],
   "source": [
    "print(SC.default)"
   ]
  },
  {
   "cell_type": "code",
   "execution_count": null,
   "metadata": {},
   "outputs": [],
   "source": [
    "%scv \"test\""
   ]
  },
  {
   "cell_type": "code",
   "execution_count": null,
   "metadata": {},
   "outputs": [],
   "source": [
    "%scv \"test\".scramble;"
   ]
  },
  {
   "cell_type": "code",
   "execution_count": null,
   "metadata": {},
   "outputs": [],
   "source": [
    "%sc \"test\".scramble;"
   ]
  },
  {
   "cell_type": "code",
   "execution_count": null,
   "metadata": {},
   "outputs": [],
   "source": [
    "%scv s.ping"
   ]
  },
  {
   "cell_type": "code",
   "execution_count": null,
   "metadata": {},
   "outputs": [],
   "source": [
    "sc.lang.read()"
   ]
  },
  {
   "cell_type": "code",
   "execution_count": null,
   "metadata": {},
   "outputs": [],
   "source": [
    "%%scv\n",
    "Routine({(\n",
    "    Synth.new(\\s1, [\\freq, 500, \\dur, 0.1, \\num, 1]);\n",
    "    0.2.wait;\n",
    "    x = Synth.new(\\s2, [\\freq, 1000, \\amp, 0.05, \\num, 2]);\n",
    "    0.1.wait;\n",
    "    x.free;\n",
    ")}).play"
   ]
  },
  {
   "cell_type": "code",
   "execution_count": null,
   "metadata": {},
   "outputs": [],
   "source": [
    "%scv adaw."
   ]
  },
  {
   "cell_type": "code",
   "execution_count": null,
   "metadata": {},
   "outputs": [],
   "source": [
    "directory = resources.__file__[:-len(\"__init__.py\")]            \n",
    "directory            "
   ]
  },
  {
   "cell_type": "code",
   "execution_count": null,
   "metadata": {},
   "outputs": [],
   "source": [
    "sc.server.load_directory(directory)"
   ]
  },
  {
   "cell_type": "code",
   "execution_count": null,
   "metadata": {},
   "outputs": [],
   "source": [
    "# Msgs in bundles dont work"
   ]
  },
  {
   "cell_type": "code",
   "execution_count": null,
   "metadata": {},
   "outputs": [],
   "source": [
    "t1 = time.time() + 0.098\n",
    "blip_bundle = bundle_builder(t1)\n",
    "blip_bundle.add(bundle_builder(t1, \"/s_new\", [\"s1\", -1, 1, 1, \"freq\", 500, \"dur\", 0.1, \"num\", 1]))\n",
    "blip_bundle.add(bundle_builder(t1+0.3, \"/s_new\", [\"s2\", -1, 1, 1, \"freq\", 1000, \"amp\", 0.05, \"num\", 2]))\n",
    "blip_bundle.add(bundle_builder(t1+0.4, \"/n_free\", [-1]))\n",
    "sc.server.send(blip_bundle.build())"
   ]
  },
  {
   "cell_type": "code",
   "execution_count": null,
   "metadata": {},
   "outputs": [],
   "source": [
    "sc.server.dump_osc()"
   ]
  },
  {
   "cell_type": "code",
   "execution_count": null,
   "metadata": {},
   "outputs": [],
   "source": [
    "t1 = time.time() - 10.098\n",
    "blip_bundle = bundle_builder(t1)\n",
    "blip_bundle.add(bundle_builder(t1, \"/s_new\", [\"s1\", -1, 1, 1, \"freq\", 500, \"dur\", 0.1, \"num\", 1]))\n",
    "blip_bundle.add(bundle_builder(t1+0.3, \"/s_new\", [\"s2\", -1, 1, 1, \"freq\", 1000, \"amp\", 0.05, \"num\", 2]))\n",
    "blip_bundle.add(bundle_builder(t1+0.4, \"/n_free\", [-1]))\n",
    "sc.server.send_bundle(blip_bundle.build())"
   ]
  },
  {
   "cell_type": "code",
   "execution_count": null,
   "metadata": {},
   "outputs": [],
   "source": [
    "blip_bundle = bundle_builder(0.0)\n",
    "blip_bundle.add(bundle_builder(0.0, \"/s_new\", [\"s1\", -1, 1, 1, \"freq\", 500, \"dur\", 0.1, \"num\", 1]))\n",
    "blip_bundle.add(bundle_builder(0.3, \"/s_new\", [\"s2\", -1, 1, 1, \"freq\", 1000, \"amp\", 0.05, \"num\", 2]))\n",
    "blip_bundle.add(bundle_builder(0.4, \"/n_free\", [-1]))\n",
    "sc.server.send_bundle(blip_bundle.build())"
   ]
  },
  {
   "cell_type": "code",
   "execution_count": null,
   "metadata": {},
   "outputs": [],
   "source": [
    "bundle = bundle_builder(time.time()+0.1)\n",
    "bundle.add_content(blip_bundle.build())\n",
    "sc.server.send_bundle(bundle.build())"
   ]
  },
  {
   "cell_type": "code",
   "execution_count": null,
   "metadata": {},
   "outputs": [],
   "source": [
    "t1 = time.time() + 0.1\n",
    "blip_bundle = bundle_builder(t1)\n",
    "blip_bundle.add_msg(\"/s_new\", [\"s1\", -1, 1, 1, \"freq\", 500, \"dur\", 0.1, \"num\", 1])\n",
    "blip_bundle.add(bundle_builder(t1+0.3, \"/s_new\", [\"s2\", -1, 1, 1, \"freq\", 1000, \"amp\", 0.05, \"num\", 2]))\n",
    "blip_bundle.add(bundle_builder(t1+0.4, \"/n_free\", [-1]))\n",
    "sc.server.send_bundle(bundle_builder(t1).add(blip_bundle.build()).add_msg(\"/s_new\", [\"s1\", -1, 1, 1]).build())"
   ]
  },
  {
   "cell_type": "code",
   "execution_count": null,
   "metadata": {},
   "outputs": [],
   "source": [
    "t1 = time.time() + 0.1\n",
    "blip_bundle = bundle_builder(t1)\n",
    "blip_bundle.add_content(build_message(\"/s_new\", [\"s1\", -1, 1, 1, \"freq\", 500, \"dur\", 0.1, \"num\", 1]))\n",
    "blip_bundle.add(bundle_builder(t1+0.3, \"/s_new\", [\"s2\", -1, 1, 1, \"freq\", 1000, \"amp\", 0.05, \"num\", 2]))\n",
    "blip_bundle.add(bundle_builder(t1+0.4, \"/n_free\", [-1]))\n",
    "sc.server.send_bundle(blip_bundle.build())"
   ]
  },
  {
   "cell_type": "code",
   "execution_count": null,
   "metadata": {},
   "outputs": [],
   "source": [
    "sc.server.free_all()"
   ]
  },
  {
   "cell_type": "code",
   "execution_count": null,
   "metadata": {},
   "outputs": [],
   "source": [
    "blip_bundle.build().dgram"
   ]
  },
  {
   "cell_type": "code",
   "execution_count": null,
   "metadata": {},
   "outputs": [],
   "source": [
    "t1 = time.time()\n",
    "blip_bundle = bundle_builder(t1)\n",
    "blip_bundle.add_msg(\"/s_new\", [\"s1\", -1, 1, 1, \"freq\", 500, \"dur\", 0.1, \"num\", 1])\n",
    "blip_bundle.add(bundle_builder(t1+0.3, \"/s_new\", [\"s2\", -1, 1, 1, \"freq\", 1000, \"amp\", 0.05, \"num\", 2]))\n",
    "blip_bundle.add(bundle_builder(t1+0.4, \"/n_free\", [-1]))\n",
    "sc.server.send_bundle(blip_bundle.build())"
   ]
  },
  {
   "cell_type": "code",
   "execution_count": null,
   "metadata": {},
   "outputs": [],
   "source": [
    "blip_bundle.build().dgram"
   ]
  },
  {
   "cell_type": "code",
   "execution_count": null,
   "metadata": {},
   "outputs": [],
   "source": [
    "t1 = time.time()\n",
    "blip_bundle = bundle_builder(t1)\n",
    "blip_bundle.add_msg(\"/s_new\", [\"s1\", -1, 1, 1, \"freq\", 500, \"dur\", 0.1, \"num\", 1])\n",
    "#blip_bundle.add(bundle_builder(t1+0.3, \"/s_new\", [\"s2\", -1, 1, 1, \"freq\", 1000, \"amp\", 0.05, \"num\", 2]))\n",
    "#blip_bundle.add(bundle_builder(t1+0.4, \"/n_free\", [-1]))\n",
    "sc.server.send_bundle(blip_bundle.build())"
   ]
  },
  {
   "cell_type": "code",
   "execution_count": null,
   "metadata": {},
   "outputs": [],
   "source": [
    "blip_bundle.build().dgram"
   ]
  },
  {
   "cell_type": "code",
   "execution_count": null,
   "metadata": {},
   "outputs": [],
   "source": [
    "sc.server.free_all()"
   ]
  },
  {
   "cell_type": "code",
   "execution_count": null,
   "metadata": {},
   "outputs": [],
   "source": [
    "now = time.time()\n",
    "s2_node_id = sc.server.next_node_id()\n",
    "target = 1\n",
    "bundle = bundle_builder(now)\n",
    "\n",
    "inner_bundle = (bundle_builder(now + 0.7)\n",
    "                .add_msg(\"/s_new\", [\"s1\", -1, 1, target, \"freq\", 400])\n",
    "                .add_msg(\"/n_query\", [-1])\n",
    "                .add_msg(\"/s_new\", [\"s2\", s2_node_id, 1, target, \"freq\", 100])\n",
    "                .add_msg(\"/n_query\", [-1])\n",
    ")\n",
    "bundle.add_content(inner_bundle.build())\n",
    "\n",
    "ib2 = (bundle_builder(now + 1.2)\n",
    "       .add_msg(\"/n_set\", [-1, \"freq\", 200])\n",
    "       .add_msg(\"/s_new\", [\"s1\", -1, 1, target, \"freq\", 800])\n",
    ")\n",
    "bundle.add_content(ib2.build())\n",
    "\n",
    "bundle.add_content(bundle_builder(now + 1.5).add_msg(\"/n_free\", [s2_node_id]).build())\n",
    "\n",
    "sc.server.send_bundle(bundle.build())"
   ]
  },
  {
   "cell_type": "code",
   "execution_count": null,
   "metadata": {},
   "outputs": [],
   "source": [
    "now = 0# time.time()\n",
    "s2_node_id = sc.server.next_node_id()\n",
    "target = 1\n",
    "bundle = bundle_builder(now)\n",
    "\n",
    "inner_bundle = (bundle_builder(now + 0.7)\n",
    "                .add_msg(\"/s_new\", [\"s1\", -1, 1, target, \"freq\", 400])\n",
    "                .add_msg(\"/n_query\", [-1])\n",
    "                .add_msg(\"/s_new\", [\"s2\", s2_node_id, 1, target, \"freq\", 100])\n",
    "                .add_msg(\"/n_query\", [-1])\n",
    ")\n",
    "bundle.add_content(inner_bundle.build())\n",
    "\n",
    "ib2 = (bundle_builder(now + 1.2)\n",
    "       .add_msg(\"/n_set\", [-1, \"freq\", 200])\n",
    "       .add_msg(\"/s_new\", [\"s1\", -1, 1, target, \"freq\", 800])\n",
    ")\n",
    "bundle.add_content(ib2.build())\n",
    "\n",
    "bundle.add_content(bundle_builder(now + 1.5).add_msg(\"/n_free\", [s2_node_id]).build())\n",
    "\n",
    "sc.server.send_bundle(bundle.build())"
   ]
  },
  {
   "cell_type": "code",
   "execution_count": null,
   "metadata": {},
   "outputs": [],
   "source": [
    "sc.server.sync()"
   ]
  },
  {
   "cell_type": "code",
   "execution_count": null,
   "metadata": {},
   "outputs": [],
   "source": [
    "blip_bundle = bundle_builder(0.1, \"/s_new\", [\"default\", -1, 1, 0])\n",
    "blip_bundle.add(bundle_builder(0.2, \"/s_new\", [\"default\", -1, 1, 0,]))\n",
    "blip_bundle.add(bundle_builder(0.1, \"/n_free\", [-1]))\n",
    "sc.server.send_bundle(blip_bundle.build())"
   ]
  },
  {
   "cell_type": "code",
   "execution_count": null,
   "metadata": {},
   "outputs": [],
   "source": [
    "blip_bundle = bundle_builder(10.1, \"/s_new\", [\"s1\", 1041, 1, 0, \"freq\", 500, \"dur\", 0.1, \"num\", 1])\n",
    "blip_bundle.add(bundle_builder(0.2, \"/s_new\", [\"s2\", 1042, 1, 0, \"freq\", 1000, \"amp\", 0.05, \"num\", 2]))\n",
    "blip_bundle.add(bundle_builder(0.1, \"/n_free\", [1042]))\n",
    "sc.server.send_bundle(blip_bundle.build())"
   ]
  },
  {
   "cell_type": "code",
   "execution_count": null,
   "metadata": {},
   "outputs": [],
   "source": [
    "sc.server.boot()"
   ]
  },
  {
   "cell_type": "code",
   "execution_count": null,
   "metadata": {},
   "outputs": [],
   "source": []
  },
  {
   "cell_type": "code",
   "execution_count": null,
   "metadata": {},
   "outputs": [],
   "source": [
    "now = time.time()\n",
    "target = 3\n",
    "blip_bundle = bundle_builder(now + 0.2, \"/s_new\", [\"default\", 1041, 1, target, \"freq\", 500, \"dur\", 0.1, \"num\", 1])\n",
    "#blip_bundle.add(bundle_builder(0.2, \"/s_new\", [\"s2\", 1042, 1, target, \"freq\", 1000, \"amp\", 0.05, \"num\", 2]))\n",
    "#blip_bundle.add(bundle_builder(now + 1.5, \"/n_free\", [1041]).build())\n",
    "sc.server.send_bundle(blip_bundle.build())"
   ]
  },
  {
   "cell_type": "code",
   "execution_count": null,
   "metadata": {},
   "outputs": [],
   "source": [
    "now = time.time()\n",
    "s2_node_id = sc.server.next_node_id()\n",
    "\n",
    "bundle = bundle_builder(now)\n",
    "\n",
    "inner_bundle = bundle_builder(now + 0.7)\\\n",
    "    .add_msg(\"/s_new\", [\"s1\", -1, 1, 0, \"freq\", 400])\\\n",
    "    .add_msg(\"/n_query\", [-1])\\\n",
    "    .add_msg(\"/s_new\", [\"s2\", s2_node_id, 1, 0, \"freq\", 100])\\\n",
    "    .add_msg(\"/n_query\", [-1])\n",
    "bundle.add_content(inner_bundle.build())\n",
    "\n",
    "ib2 = bundle_builder(now + 1.2)\\\n",
    "    .add_msg(\"/n_set\", [-1, \"freq\", 200])\\\n",
    "    .add_msg(\"/s_new\", [\"s1\", -1, 1, 0, \"freq\", 800])\n",
    "bundle.add_content(ib2.build())\n",
    "\n",
    "bundle.add_content(bundle_builder(now + 1.5).add_msg(\"/n_free\", [s2_node_id]).build())\n",
    "\n",
    "sc.server.send_bundle(bundle.build())"
   ]
  },
  {
   "cell_type": "code",
   "execution_count": null,
   "metadata": {},
   "outputs": [],
   "source": [
    "now = time.time()\n",
    "s2_node_id = sc.server.next_node_id()\n",
    "\n",
    "bundle = bundle_builder(now)\n",
    "\n",
    "inner_bundle = bundle_builder(now + 0.7)\\\n",
    "    .add_msg(\"/s_new\", [\"s1\", -1, 1, 0, \"freq\", 400])\\\n",
    "    .add_msg(\"/n_query\", [-1])\\\n",
    "    .add_msg(\"/s_new\", [\"s2\", s2_node_id, 1, 0, \"freq\", 100])\\\n",
    "    .add_msg(\"/n_query\", [-1])\n",
    "bundle.add_content(inner_bundle.build())\n",
    "\n",
    "ib2 = bundle_builder(now + 1.2)\\\n",
    "    .add_msg(\"/n_set\", [-1, \"freq\", 200])\\\n",
    "    .add_msg(\"/s_new\", [\"s1\", -1, 1, 0, \"freq\", 800])\n",
    "bundle.add_content(ib2.build())\n",
    "\n",
    "bundle.add_content(bundle_builder(now + 1.5).add_msg(\"/n_free\", [s2_node_id]).build())\n",
    "\n",
    "sc.server.send_bundle(bundle.build())"
   ]
  },
  {
   "cell_type": "code",
   "execution_count": null,
   "metadata": {},
   "outputs": [],
   "source": [
    "target = 3\n",
    "blip_bundle = bundle_builder(now + 0.2, \"/s_new\", [\"default\", 1041, 1, target, \"freq\", 500, \"dur\", 0.1, \"num\", 1])\n",
    "blip_bundle.add(bundle_builder(now + 1.5, \"/n_free\", [1041]).build())\n",
    "sc.server.send_bundle(blip_bundle.build())"
   ]
  },
  {
   "cell_type": "code",
   "execution_count": null,
   "metadata": {},
   "outputs": [],
   "source": [
    "sc.server.dump_osc(1)"
   ]
  },
  {
   "cell_type": "code",
   "execution_count": null,
   "metadata": {},
   "outputs": [],
   "source": [
    "bb = bundle_builder(1.0, \"/s_new\", [\"s1\", 41, 1, 0, \"freq\", 500, \"dur\", 0.1, \"num\", 1])\n",
    "ib = bundle_builder(2.0, \"/s_new\", [\"s1\", 42, 1, 0, \"freq\", 500, \"dur\", 0.1, \"num\", 1])\n",
    "print(type(ib.build()))\n",
    "bb.add(ib.build())\n",
    "bb.add(build_message(\"/s_new\", [\"s1\", 43, 1, 0, \"freq\", 600, \"dur\", 0.2, \"num\", 2]))\n",
    "sc.server.send_bundle(bb.build())"
   ]
  },
  {
   "cell_type": "code",
   "execution_count": null,
   "metadata": {},
   "outputs": [],
   "source": []
  },
  {
   "cell_type": "code",
   "execution_count": null,
   "metadata": {},
   "outputs": [],
   "source": [
    "sc.server.default_group.new()"
   ]
  },
  {
   "cell_type": "code",
   "execution_count": null,
   "metadata": {},
   "outputs": [],
   "source": [
    "/g_new [1, 0, 0]"
   ]
  },
  {
   "cell_type": "code",
   "execution_count": null,
   "metadata": {},
   "outputs": [],
   "source": [
    "sc.server.default_group.free()"
   ]
  },
  {
   "cell_type": "code",
   "execution_count": null,
   "metadata": {},
   "outputs": [],
   "source": [
    "sc.server.free_all()"
   ]
  },
  {
   "cell_type": "code",
   "execution_count": null,
   "metadata": {},
   "outputs": [],
   "source": [
    "sc.sclang.server = sc.server"
   ]
  },
  {
   "cell_type": "code",
   "execution_count": null,
   "metadata": {},
   "outputs": [],
   "source": [
    "sc.lang.cmdv(\"Synth('default')\")"
   ]
  },
  {
   "cell_type": "code",
   "execution_count": null,
   "metadata": {},
   "outputs": [],
   "source": [
    "sc.lang.cmdv(\"s.freeAll\")"
   ]
  },
  {
   "cell_type": "code",
   "execution_count": null,
   "metadata": {},
   "outputs": [],
   "source": [
    "sc.server.sync()"
   ]
  },
  {
   "cell_type": "code",
   "execution_count": null,
   "metadata": {},
   "outputs": [],
   "source": [
    "msg = scn.build_message(\"/g_new\", [3, 0, 1])\n",
    "print(msg.dgram)\n",
    "sc.server.send_msg(msg)"
   ]
  },
  {
   "cell_type": "code",
   "execution_count": null,
   "metadata": {},
   "outputs": [],
   "source": [
    "sc.server.query_all_nodes()"
   ]
  },
  {
   "cell_type": "code",
   "execution_count": null,
   "metadata": {},
   "outputs": [],
   "source": [
    "sc.server.dump_tree()"
   ]
  },
  {
   "cell_type": "code",
   "execution_count": null,
   "metadata": {},
   "outputs": [],
   "source": [
    "sc.server.free_all()"
   ]
  },
  {
   "cell_type": "code",
   "execution_count": null,
   "metadata": {},
   "outputs": [],
   "source": [
    "sc.sclang.cmdv(\"Synth('default')\")"
   ]
  },
  {
   "cell_type": "code",
   "execution_count": null,
   "metadata": {},
   "outputs": [],
   "source": [
    "sc.sclang.cmdv(\"s.notify=false\")"
   ]
  },
  {
   "cell_type": "code",
   "execution_count": null,
   "metadata": {},
   "outputs": [],
   "source": [
    "sc.server.notify(1)"
   ]
  },
  {
   "cell_type": "code",
   "execution_count": null,
   "metadata": {},
   "outputs": [],
   "source": [
    "sc.server.process.process.poll()"
   ]
  },
  {
   "cell_type": "code",
   "execution_count": null,
   "metadata": {},
   "outputs": [],
   "source": [
    "sc.server.process.process.kill()"
   ]
  },
  {
   "cell_type": "code",
   "execution_count": null,
   "metadata": {},
   "outputs": [],
   "source": [
    "syn = scn.Synth(sc.server)"
   ]
  },
  {
   "cell_type": "code",
   "execution_count": null,
   "metadata": {},
   "outputs": [],
   "source": [
    "syn.sy"
   ]
  },
  {
   "cell_type": "code",
   "execution_count": null,
   "metadata": {},
   "outputs": [],
   "source": [
    "sc.sclang.cmdv('\"scramble\".scramble')"
   ]
  },
  {
   "cell_type": "code",
   "execution_count": null,
   "metadata": {},
   "outputs": [],
   "source": [
    "sc.server.osc.msg(\"test\")"
   ]
  },
  {
   "cell_type": "markdown",
   "metadata": {},
   "source": [
    "## sclang "
   ]
  },
  {
   "cell_type": "code",
   "execution_count": null,
   "metadata": {},
   "outputs": [],
   "source": [
    "sclp = scn.sclang.Sclang()"
   ]
  },
  {
   "cell_type": "code",
   "execution_count": null,
   "metadata": {},
   "outputs": [],
   "source": [
    "sclp.cmd('\"scramble\".scramble;')\n",
    "sclp.cmdv('\"scramble\".scramble;', discard_output=False)"
   ]
  },
  {
   "cell_type": "code",
   "execution_count": null,
   "metadata": {},
   "outputs": [],
   "source": [
    "#sclp.cmdv('s.boot;')"
   ]
  },
  {
   "cell_type": "code",
   "execution_count": null,
   "metadata": {},
   "outputs": [],
   "source": [
    "#print(sclp.read())"
   ]
  },
  {
   "cell_type": "code",
   "execution_count": null,
   "metadata": {},
   "outputs": [],
   "source": [
    "#sclp.cmdv('s.quit;', get_output=True)"
   ]
  },
  {
   "cell_type": "code",
   "execution_count": null,
   "metadata": {},
   "outputs": [],
   "source": [
    "#sclp.read(terminal=\"exit code\")"
   ]
  },
  {
   "cell_type": "markdown",
   "metadata": {},
   "source": [
    "## SC Server"
   ]
  },
  {
   "cell_type": "code",
   "execution_count": null,
   "metadata": {},
   "outputs": [],
   "source": [
    "scserv = scn.sc_objects.server.SCServer()"
   ]
  },
  {
   "cell_type": "code",
   "execution_count": null,
   "metadata": {},
   "outputs": [],
   "source": [
    "scserv.boot()"
   ]
  },
  {
   "cell_type": "code",
   "execution_count": null,
   "metadata": {},
   "outputs": [],
   "source": [
    "import subprocess"
   ]
  },
  {
   "cell_type": "code",
   "execution_count": null,
   "metadata": {},
   "outputs": [],
   "source": [
    "subprocess.Popen(['C:\\\\Program Files\\\\SuperCollider-3.11.0\\\\scsynth.exe', '-u 57110', '-l 2'])"
   ]
  },
  {
   "cell_type": "code",
   "execution_count": null,
   "metadata": {},
   "outputs": [],
   "source": [
    "subprocess.Popen(\"C:\\\\Program Files\\\\SuperCollider-3.11.0\\\\scsynth.exe -u 57110 -l 2\")"
   ]
  },
  {
   "cell_type": "code",
   "execution_count": null,
   "metadata": {},
   "outputs": [],
   "source": [
    "scserv.remote('127.0.0.1', 57110)"
   ]
  },
  {
   "cell_type": "code",
   "execution_count": null,
   "metadata": {},
   "outputs": [],
   "source": [
    "scserv.status()"
   ]
  },
  {
   "cell_type": "code",
   "execution_count": null,
   "metadata": {},
   "outputs": [],
   "source": [
    "scserv.quit()"
   ]
  },
  {
   "cell_type": "code",
   "execution_count": null,
   "metadata": {},
   "outputs": [],
   "source": [
    "scserv.process.process.poll()"
   ]
  },
  {
   "cell_type": "code",
   "execution_count": null,
   "metadata": {},
   "outputs": [],
   "source": [
    "from sc3nb.osc.osc_communication import build_message"
   ]
  },
  {
   "cell_type": "code",
   "execution_count": null,
   "metadata": {},
   "outputs": [],
   "source": [
    "#scserv.send_msg(build_message(\"/dumpOSC\", 1))"
   ]
  },
  {
   "cell_type": "code",
   "execution_count": null,
   "metadata": {},
   "outputs": [],
   "source": [
    "scserv.osc.get_connection_info()"
   ]
  },
  {
   "cell_type": "code",
   "execution_count": null,
   "metadata": {},
   "outputs": [],
   "source": [
    "scserv.osc.msg(\"/status\")"
   ]
  },
  {
   "cell_type": "code",
   "execution_count": null,
   "metadata": {},
   "outputs": [],
   "source": [
    "scserv.status()"
   ]
  },
  {
   "cell_type": "code",
   "execution_count": null,
   "metadata": {},
   "outputs": [],
   "source": [
    "sclp.osc = scserv.osc"
   ]
  },
  {
   "cell_type": "code",
   "execution_count": null,
   "metadata": {},
   "outputs": [],
   "source": [
    "sclp.cmdg('\"scramble\".scramble;')"
   ]
  },
  {
   "cell_type": "code",
   "execution_count": null,
   "metadata": {},
   "outputs": [],
   "source": [
    "sclp.server = scserv"
   ]
  },
  {
   "cell_type": "code",
   "execution_count": null,
   "metadata": {},
   "outputs": [],
   "source": [
    "scserv.notify(1)"
   ]
  },
  {
   "cell_type": "code",
   "execution_count": null,
   "metadata": {},
   "outputs": [],
   "source": [
    "sclp.cmd(\"Synth('s1')\")"
   ]
  },
  {
   "cell_type": "code",
   "execution_count": null,
   "metadata": {},
   "outputs": [],
   "source": [
    "sclp.cmdv(r\"\"\"s = Server.remote(name: 'remote', addr: NetAddr(^addr, ^port), options: nil , clientID: 0);\"\"\", pyvars={\"addr\": scserv.addr, \"port\": scserv.server_options.udp_port})"
   ]
  },
  {
   "cell_type": "code",
   "execution_count": null,
   "metadata": {},
   "outputs": [],
   "source": [
    "scn.Synth()"
   ]
  },
  {
   "cell_type": "code",
   "execution_count": null,
   "metadata": {},
   "outputs": [],
   "source": [
    "scserv.process.process.poll()"
   ]
  },
  {
   "cell_type": "code",
   "execution_count": null,
   "metadata": {},
   "outputs": [],
   "source": [
    "d = os.path.dirname(sys.modules['sc3nb'].__file__)\n",
    "d"
   ]
  },
  {
   "cell_type": "code",
   "execution_count": null,
   "metadata": {},
   "outputs": [],
   "source": [
    "import pkgutil"
   ]
  },
  {
   "cell_type": "code",
   "execution_count": null,
   "metadata": {},
   "outputs": [],
   "source": [
    "import importlib.resources"
   ]
  },
  {
   "cell_type": "code",
   "execution_count": null,
   "metadata": {},
   "outputs": [],
   "source": [
    "try:\n",
    "    import importlib.resources as pkg_resources\n",
    "except ImportError:\n",
    "    # Try backported to PY<37 `importlib_resources`.\n",
    "    import importlib_resources as pkg_resources\n"
   ]
  },
  {
   "cell_type": "code",
   "execution_count": null,
   "metadata": {},
   "outputs": [],
   "source": [
    "pkg_resources"
   ]
  },
  {
   "cell_type": "code",
   "execution_count": null,
   "metadata": {},
   "outputs": [],
   "source": [
    "pkg_resources.resource_listdir('sc3nb.ressources', '')"
   ]
  },
  {
   "cell_type": "code",
   "execution_count": null,
   "metadata": {},
   "outputs": [],
   "source": [
    "pkgutil.get_data(\"sc3nb\", \"synth\")"
   ]
  },
  {
   "cell_type": "code",
   "execution_count": null,
   "metadata": {},
   "outputs": [],
   "source": [
    "\"SuperCollider 3 server ready.\" in scserv.scsynth_process.stdout.peek().decode()"
   ]
  },
  {
   "cell_type": "code",
   "execution_count": null,
   "metadata": {},
   "outputs": [],
   "source": [
    "print(scserv.scsynth_process.stdout.peek().decode())"
   ]
  },
  {
   "cell_type": "code",
   "execution_count": null,
   "metadata": {},
   "outputs": [],
   "source": [
    "scserv.scsynth_process.poll()"
   ]
  },
  {
   "cell_type": "code",
   "execution_count": null,
   "metadata": {},
   "outputs": [],
   "source": [
    "sclp.cmd(r\"\"\"s = Server.remote(name: 'remote', addr: NetAddr(\"127.0.0.1\", 57110), options: nil , clientID: 0);\"\"\")"
   ]
  },
  {
   "cell_type": "code",
   "execution_count": null,
   "metadata": {},
   "outputs": [],
   "source": []
  },
  {
   "cell_type": "markdown",
   "metadata": {},
   "source": [
    "## OSC communication"
   ]
  },
  {
   "cell_type": "code",
   "execution_count": null,
   "metadata": {},
   "outputs": [],
   "source": [
    "import threading"
   ]
  },
  {
   "cell_type": "code",
   "execution_count": null,
   "metadata": {},
   "outputs": [],
   "source": [
    "threading.active_count()"
   ]
  },
  {
   "cell_type": "code",
   "execution_count": null,
   "metadata": {},
   "outputs": [],
   "source": [
    "osc = scn.osc.osc_communication.OscCommunication();"
   ]
  },
  {
   "cell_type": "code",
   "execution_count": null,
   "metadata": {},
   "outputs": [],
   "source": [
    "threading.active_count()"
   ]
  },
  {
   "cell_type": "code",
   "execution_count": null,
   "metadata": {},
   "outputs": [],
   "source": [
    "osc.msg_queues"
   ]
  },
  {
   "cell_type": "code",
   "execution_count": null,
   "metadata": {},
   "outputs": [],
   "source": [
    "osc.exit()"
   ]
  },
  {
   "cell_type": "code",
   "execution_count": null,
   "metadata": {},
   "outputs": [],
   "source": [
    "threading.active_count()"
   ]
  },
  {
   "cell_type": "markdown",
   "metadata": {},
   "source": [
    "## SC Objects"
   ]
  },
  {
   "cell_type": "markdown",
   "metadata": {},
   "source": [
    "### Node"
   ]
  },
  {
   "cell_type": "markdown",
   "metadata": {},
   "source": [
    "#### Synth"
   ]
  },
  {
   "cell_type": "code",
   "execution_count": null,
   "metadata": {},
   "outputs": [],
   "source": [
    "sc.server"
   ]
  },
  {
   "cell_type": "code",
   "execution_count": null,
   "metadata": {},
   "outputs": [],
   "source": [
    "s"
   ]
  },
  {
   "cell_type": "code",
   "execution_count": null,
   "metadata": {},
   "outputs": [],
   "source": [
    "synth = sc.Synth(\"test\")"
   ]
  },
  {
   "cell_type": "code",
   "execution_count": null,
   "metadata": {},
   "outputs": [],
   "source": [
    "del synth"
   ]
  },
  {
   "cell_type": "code",
   "execution_count": null,
   "metadata": {},
   "outputs": [],
   "source": [
    "synth = sc.Synth()\n",
    "time.sleep(0.2)\n",
    "synth.run(False)"
   ]
  },
  {
   "cell_type": "code",
   "execution_count": null,
   "metadata": {},
   "outputs": [],
   "source": [
    "synth.synth_desc"
   ]
  },
  {
   "cell_type": "code",
   "execution_count": null,
   "metadata": {},
   "outputs": [],
   "source": [
    "synth.synth_desc"
   ]
  },
  {
   "cell_type": "code",
   "execution_count": null,
   "metadata": {},
   "outputs": [],
   "source": [
    "synth"
   ]
  },
  {
   "cell_type": "code",
   "execution_count": null,
   "metadata": {},
   "outputs": [],
   "source": [
    "sc.msg(\"/s_get\", (synth.nodeid, \"freq\"))"
   ]
  },
  {
   "cell_type": "code",
   "execution_count": null,
   "metadata": {},
   "outputs": [],
   "source": [
    "sc.msg(\"/s_getn\", (synth.nodeid, \"freq\", 1))"
   ]
  },
  {
   "cell_type": "code",
   "execution_count": null,
   "metadata": {},
   "outputs": [],
   "source": [
    "synth.get(\"gate\")"
   ]
  },
  {
   "cell_type": "code",
   "execution_count": null,
   "metadata": {},
   "outputs": [],
   "source": [
    "synth.fate"
   ]
  },
  {
   "cell_type": "code",
   "execution_count": null,
   "metadata": {},
   "outputs": [],
   "source": [
    "synth.run(True)"
   ]
  },
  {
   "cell_type": "code",
   "execution_count": null,
   "metadata": {},
   "outputs": [],
   "source": [
    "synth.freq = 400"
   ]
  },
  {
   "cell_type": "code",
   "execution_count": null,
   "metadata": {},
   "outputs": [],
   "source": [
    "synth.get(\"freq\")"
   ]
  },
  {
   "cell_type": "code",
   "execution_count": null,
   "metadata": {},
   "outputs": [],
   "source": [
    "synth.new()"
   ]
  },
  {
   "cell_type": "code",
   "execution_count": null,
   "metadata": {},
   "outputs": [],
   "source": [
    "scp.cmdg('\"scramble\".scramble;', verbose=True)"
   ]
  },
  {
   "cell_type": "code",
   "execution_count": null,
   "metadata": {},
   "outputs": [],
   "source": [
    "scp.osc = osc"
   ]
  },
  {
   "cell_type": "code",
   "execution_count": null,
   "metadata": {},
   "outputs": [],
   "source": [
    "scp.osc = None"
   ]
  },
  {
   "cell_type": "code",
   "execution_count": null,
   "metadata": {},
   "outputs": [],
   "source": [
    "scp.cmdg('\"scramble\".scramble;')"
   ]
  },
  {
   "cell_type": "code",
   "execution_count": null,
   "metadata": {},
   "outputs": [],
   "source": [
    "scp.cmdg('NetAddr.localAddr;', verbose=True)"
   ]
  },
  {
   "cell_type": "code",
   "execution_count": null,
   "metadata": {},
   "outputs": [],
   "source": [
    "scp.cmdg('NetAddr.langPort;', verbose=True)"
   ]
  },
  {
   "cell_type": "markdown",
   "metadata": {},
   "source": [
    "## SC"
   ]
  },
  {
   "cell_type": "code",
   "execution_count": null,
   "metadata": {},
   "outputs": [],
   "source": [
    "sc = scn.startup()"
   ]
  },
  {
   "cell_type": "code",
   "execution_count": null,
   "metadata": {},
   "outputs": [],
   "source": [
    "syn = sc.Synth()"
   ]
  },
  {
   "cell_type": "code",
   "execution_count": null,
   "metadata": {},
   "outputs": [],
   "source": [
    "sc.server.free_all()"
   ]
  },
  {
   "cell_type": "code",
   "execution_count": null,
   "metadata": {},
   "outputs": [],
   "source": [
    "sc.Buffer()"
   ]
  },
  {
   "cell_type": "code",
   "execution_count": null,
   "metadata": {},
   "outputs": [],
   "source": [
    "serv1.Buffer()"
   ]
  },
  {
   "cell_type": "code",
   "execution_count": null,
   "metadata": {},
   "outputs": [],
   "source": [
    "sc.server[1]."
   ]
  },
  {
   "cell_type": "code",
   "execution_count": null,
   "metadata": {},
   "outputs": [],
   "source": [
    "sc.osc, sc.sclang"
   ]
  },
  {
   "cell_type": "code",
   "execution_count": null,
   "metadata": {},
   "outputs": [],
   "source": [
    "sc.sclangp.output_queue.queue"
   ]
  },
  {
   "cell_type": "code",
   "execution_count": null,
   "metadata": {},
   "outputs": [],
   "source": [
    "pyvar = r\"\\\\\\\\default\""
   ]
  },
  {
   "cell_type": "code",
   "execution_count": null,
   "metadata": {},
   "outputs": [],
   "source": [
    "pyvar = r\"\\\\default\""
   ]
  },
  {
   "cell_type": "code",
   "execution_count": null,
   "metadata": {},
   "outputs": [],
   "source": [
    "sc.cmdv(\"^pyvar\")\n",
    "sc.cmdv(\"^pyvar.class\")"
   ]
  },
  {
   "cell_type": "code",
   "execution_count": null,
   "metadata": {},
   "outputs": [],
   "source": [
    "syn_def = sc.SynthDef(\"random\", \"\"\"{ |out, l_freq=400 |\n",
    "    Out.ar(out,\n",
    "        SinOsc.ar(rrand(400, 800), 0, 0.2) * Line.kr(1, 0, 1, doneAction: Done.freeSelf)\n",
    "    )\n",
    "}\"\"\")"
   ]
  },
  {
   "cell_type": "code",
   "execution_count": null,
   "metadata": {},
   "outputs": [],
   "source": [
    "syn_name = syn_def.add()"
   ]
  },
  {
   "cell_type": "code",
   "execution_count": null,
   "metadata": {},
   "outputs": [],
   "source": [
    "syn = sc.Synth(syn_name)"
   ]
  },
  {
   "cell_type": "code",
   "execution_count": null,
   "metadata": {},
   "outputs": [],
   "source": [
    "syn.synth_args"
   ]
  },
  {
   "cell_type": "code",
   "execution_count": null,
   "metadata": {},
   "outputs": [],
   "source": [
    "print(sc.msg(\"/s_get\", [syn.nodeid, \"pan\"], sync=False))"
   ]
  },
  {
   "cell_type": "code",
   "execution_count": null,
   "metadata": {},
   "outputs": [],
   "source": [
    "sc.osc.msg_queues"
   ]
  },
  {
   "cell_type": "code",
   "execution_count": null,
   "metadata": {},
   "outputs": [],
   "source": [
    "syn.pan = 1"
   ]
  },
  {
   "cell_type": "code",
   "execution_count": null,
   "metadata": {},
   "outputs": [],
   "source": [
    "syn.pan = -1 * syn.pan"
   ]
  },
  {
   "cell_type": "code",
   "execution_count": null,
   "metadata": {},
   "outputs": [],
   "source": [
    "syn.free()"
   ]
  },
  {
   "cell_type": "code",
   "execution_count": null,
   "metadata": {},
   "outputs": [],
   "source": [
    "ip, port = sc.get_connection_info()[0]"
   ]
  },
  {
   "cell_type": "code",
   "execution_count": null,
   "metadata": {},
   "outputs": [],
   "source": [
    "%scv r"
   ]
  },
  {
   "cell_type": "code",
   "execution_count": null,
   "metadata": {},
   "outputs": [],
   "source": [
    "sc.osc.msg_queues"
   ]
  },
  {
   "cell_type": "code",
   "execution_count": null,
   "metadata": {},
   "outputs": [],
   "source": [
    "sc.free_all()"
   ]
  },
  {
   "cell_type": "code",
   "execution_count": null,
   "metadata": {},
   "outputs": [],
   "source": [
    "sc.cmd(r\"OSCFunc({|msg, time, addr, recvPort| r['scn'].sendMsg(msg); }, '/done', s.addr);\")"
   ]
  },
  {
   "cell_type": "code",
   "execution_count": null,
   "metadata": {},
   "outputs": [],
   "source": [
    "sc.cmd(r\"\"\"r['sc3nb'].sendMsg(*[\"/hello\", \"there\"]);\"\"\")"
   ]
  },
  {
   "cell_type": "code",
   "execution_count": null,
   "metadata": {},
   "outputs": [],
   "source": [
    "%scv r"
   ]
  },
  {
   "cell_type": "code",
   "execution_count": null,
   "metadata": {},
   "outputs": [],
   "source": []
  }
 ],
 "metadata": {
  "kernelspec": {
   "display_name": "Python [conda env:soni]",
   "language": "python",
   "name": "conda-env-soni-py"
  },
  "language_info": {
   "codemirror_mode": {
    "name": "ipython",
    "version": 3
   },
   "file_extension": ".py",
   "mimetype": "text/x-python",
   "name": "python",
   "nbconvert_exporter": "python",
   "pygments_lexer": "ipython3",
   "version": "3.7.9"
  }
 },
 "nbformat": 4,
 "nbformat_minor": 4
}
