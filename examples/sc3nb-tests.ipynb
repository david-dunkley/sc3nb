{
 "cells": [
  {
   "cell_type": "markdown",
   "metadata": {},
   "source": [
    "# sc3nb Test cases"
   ]
  },
  {
   "cell_type": "code",
   "execution_count": null,
   "metadata": {},
   "outputs": [],
   "source": [
    "%load_ext autoreload\n",
    "%autoreload 2\n",
    "\n",
    "import logging\n",
    "logging.basicConfig(level=logging.DEBUG)"
   ]
  },
  {
   "cell_type": "code",
   "execution_count": null,
   "metadata": {},
   "outputs": [],
   "source": [
    "import sys, time, random, os\n",
    "import numpy as np\n",
    "\n",
    "import pythonosc.parsing.osc_types as osc_types\n",
    "import sc3nb as scn"
   ]
  },
  {
   "cell_type": "code",
   "execution_count": null,
   "metadata": {},
   "outputs": [],
   "source": [
    "if 'sc' in locals() and sc is not None and isinstance(sc, scn.SC):\n",
    "    sc.exit()"
   ]
  },
  {
   "cell_type": "code",
   "execution_count": null,
   "metadata": {},
   "outputs": [],
   "source": [
    "TEST_PORT = scn.osc.osc_communication.SCSYNTH_DEFAULT_PORT+1\n",
    "\n",
    "# start without sclang and with different port to enforce own server process creation\n",
    "sc = scn.startup(start_sclang=False, scsynth_options=scn.ServerOptions(udp_port=TEST_PORT)) "
   ]
  },
  {
   "cell_type": "code",
   "execution_count": null,
   "metadata": {},
   "outputs": [],
   "source": [
    "assert sc.server.is_local"
   ]
  },
  {
   "cell_type": "code",
   "execution_count": null,
   "metadata": {},
   "outputs": [],
   "source": [
    "sc.server.dump_osc(1)  # scsynth will print received OSC packets"
   ]
  },
  {
   "cell_type": "code",
   "execution_count": null,
   "metadata": {},
   "outputs": [],
   "source": [
    "sc.server.sync()"
   ]
  },
  {
   "cell_type": "markdown",
   "metadata": {},
   "source": [
    "## missing sclang tests"
   ]
  },
  {
   "cell_type": "code",
   "execution_count": null,
   "metadata": {},
   "outputs": [],
   "source": [
    "assert sc._sclang is None, \"_sclang was set\""
   ]
  },
  {
   "cell_type": "code",
   "execution_count": null,
   "metadata": {},
   "outputs": [],
   "source": [
    "runtime_warning = False\n",
    "try:\n",
    "    sc.lang.cmd(\"s;\")\n",
    "except RuntimeWarning:\n",
    "    runtime_warning = True\n",
    "assert runtime_warning, \"sclang access should have raised a RuntimeWarning\""
   ]
  },
  {
   "cell_type": "markdown",
   "metadata": {},
   "source": [
    "## automatic (with) Bundler test"
   ]
  },
  {
   "cell_type": "code",
   "execution_count": null,
   "metadata": {},
   "outputs": [],
   "source": [
    "try:\n",
    "    del syn1\n",
    "except NameError as error:\n",
    "    pass \n",
    "try:\n",
    "    del syn2\n",
    "except NameError as error:\n",
    "    pass \n",
    "try:\n",
    "    del bundler\n",
    "except NameError as error:\n",
    "    pass \n",
    "    \n",
    "# if we have syn1, syn2 in scope the automatic free messages will be included in the bundle..\n",
    "# but if we dont allow bundling of synths freed by __del__ it will also affect inner bundle variable reuse \n",
    "\n",
    "with scn.Bundler(0.1) as bundler:\n",
    "    syn1 = scn.Synth(\"s2\", {\"amp\": 0.1})\n",
    "    bundler.wait(0.15)\n",
    "    syn2 = scn.Synth(\"s2\", {\"freq\": 900, \"amp\": 0.1})\n",
    "    bundler.wait(0.15)\n",
    "    syn2.free()\n",
    "    bundler.wait(0.2)\n",
    "    syn1.free()\n",
    "\n",
    "assert len(bundler.contents) == 4, f\"content size does not match {bundler.contents}\"\n",
    "assert bundler.passed_time == 0.5, \"passed time does not match\""
   ]
  },
  {
   "cell_type": "code",
   "execution_count": null,
   "metadata": {},
   "outputs": [],
   "source": [
    "with scn.Bundler(0.1) as bundler:\n",
    "    syn1 = scn.Synth(\"s2\", {\"amp\": 0.1})\n",
    "    bundler.wait(0.5)\n",
    "    syn2 = scn.Synth(\"s2\", {\"freq\": 200, \"amp\": 0.1})\n",
    "    bundler.wait(0.5)\n",
    "    syn1.free()\n",
    "    bundler.wait(0.5)  # 0.5 shorter\n",
    "    syn2.free()\n",
    "\n",
    "# len + 2, because of automatic free messages\n",
    "assert len(bundler.contents) == 6, f\"content size does not match {bundler.contents}\"\n",
    "assert bundler.passed_time == 1.5, \"passed time does not match\""
   ]
  },
  {
   "cell_type": "markdown",
   "metadata": {},
   "source": [
    "## Buffer tests"
   ]
  },
  {
   "cell_type": "code",
   "execution_count": null,
   "metadata": {},
   "outputs": [],
   "source": [
    "bufdata = np.random.rand(30000, 1)\n",
    "buf = scn.Buffer().load_data(bufdata)\n",
    "assert np.allclose(buf.to_array(), bufdata), \"Buffer data mismatch\""
   ]
  },
  {
   "cell_type": "markdown",
   "metadata": {},
   "source": [
    "## synth features tests"
   ]
  },
  {
   "cell_type": "markdown",
   "metadata": {},
   "source": [
    "### synth features without sclang"
   ]
  },
  {
   "cell_type": "code",
   "execution_count": null,
   "metadata": {},
   "outputs": [],
   "source": [
    "assert sc._sclang is None, \"sclang was started but shouldn't be\""
   ]
  },
  {
   "cell_type": "code",
   "execution_count": null,
   "metadata": {},
   "outputs": [],
   "source": [
    "args = {'amp': 0.01, \"num\": 3}\n",
    "syn = scn.Synth(\"s2\", args=args)  # when a Synth param was set it should accessible without sclang\n",
    "for name, value in args.items():\n",
    "    assert np.allclose(syn.__getattr__(name), value), f\"{name} value mismatch\""
   ]
  },
  {
   "cell_type": "code",
   "execution_count": null,
   "metadata": {},
   "outputs": [],
   "source": [
    "attribute_error = False;\n",
    "try:\n",
    "    print(syn.freq)  # when a Synth param wasnt set nor sclang provided a synth desc it should raise an AttributeError\n",
    "except AttributeError:\n",
    "    attribute_error = True\n",
    "assert attribute_error"
   ]
  },
  {
   "cell_type": "code",
   "execution_count": null,
   "metadata": {},
   "outputs": [],
   "source": [
    "#with self.assertWarns(UserWarning):\n",
    "syn.freq = 200  # this should seen as python attribute and not affect the sound"
   ]
  },
  {
   "cell_type": "code",
   "execution_count": null,
   "metadata": {},
   "outputs": [],
   "source": [
    "#with self.assertWarns(UserWarning):\n",
    "syn.set(\"freq\", 1000)  # here the python attribute should be removed and warned about it"
   ]
  },
  {
   "cell_type": "code",
   "execution_count": null,
   "metadata": {},
   "outputs": [],
   "source": [
    "syn.freq = 200  # this should change the synth parameter"
   ]
  },
  {
   "cell_type": "code",
   "execution_count": null,
   "metadata": {},
   "outputs": [],
   "source": [
    "syn.free()"
   ]
  },
  {
   "cell_type": "markdown",
   "metadata": {},
   "source": [
    "### synth features with sclang"
   ]
  },
  {
   "cell_type": "code",
   "execution_count": null,
   "metadata": {},
   "outputs": [],
   "source": [
    "sc.start_sclang()"
   ]
  },
  {
   "cell_type": "code",
   "execution_count": null,
   "metadata": {},
   "outputs": [],
   "source": [
    "assert sc._sclang is not None, \"failed to start sclang\""
   ]
  },
  {
   "cell_type": "code",
   "execution_count": null,
   "metadata": {},
   "outputs": [],
   "source": [
    "synth_desc = scn.SynthDef.get_desc(\"s2\")\n",
    "assert synth_desc is not None, \"failed to get synth desc\""
   ]
  },
  {
   "cell_type": "code",
   "execution_count": null,
   "metadata": {},
   "outputs": [],
   "source": [
    "syn = scn.Synth(\"s2\")  # when a Synth param was set it should accessible without sclang\n",
    "for name, arg in synth_desc.items():\n",
    "    assert np.allclose(syn.__getattr__(name), arg.default), f\"{name} value mismatch\"\n",
    "syn.free()"
   ]
  },
  {
   "cell_type": "markdown",
   "metadata": {},
   "source": [
    "## SynthDef tests"
   ]
  },
  {
   "cell_type": "code",
   "execution_count": null,
   "metadata": {},
   "outputs": [],
   "source": [
    "if \"synth_def\" in locals(): del synth_def\n",
    "\n",
    "synth_def = scn.SynthDef(name='myklank', definition=r\"\"\"\n",
    "{ |out=0, amp=0.3, freq=440|\n",
    "    var klank = DynKlank.ar(`[[1,2], [1,1], [1.4,1]], Dust.ar(20), freq);\n",
    "    Out.ar(out, amp*klank!2);\n",
    "}\"\"\")\n",
    "syn_name = synth_def.add()"
   ]
  },
  {
   "cell_type": "code",
   "execution_count": null,
   "metadata": {},
   "outputs": [],
   "source": [
    "desc = scn.SynthDef.get_desc(syn_name)\n",
    "assert desc is not None, \"SynthDef is not in SynthDescLib of sclang\"\n",
    "assert \"freq\" in desc, \"desc is wrong\"\n",
    "assert 440 == desc[\"freq\"].default, \"desc is wrong\""
   ]
  },
  {
   "cell_type": "code",
   "execution_count": null,
   "metadata": {},
   "outputs": [],
   "source": [
    "synth = scn.Synth(syn_name)"
   ]
  },
  {
   "cell_type": "code",
   "execution_count": null,
   "metadata": {},
   "outputs": [],
   "source": [
    "synth.free()"
   ]
  },
  {
   "cell_type": "markdown",
   "metadata": {},
   "source": [
    "## Recording"
   ]
  },
  {
   "cell_type": "code",
   "execution_count": null,
   "metadata": {},
   "outputs": [],
   "source": [
    "rec = scn.Recording()\n",
    "with scn.Bundler(0.2) as bundler:\n",
    "    rec.start()\n",
    "    syn1 = scn.Synth(\"s2\", {\"freq\": 300, \"amp\": 0.1})\n",
    "    bundler.wait(1.0)\n",
    "    syn1.free()\n",
    "    rec.pause()\n",
    "    bundler.wait(1.0)\n",
    "    rec.resume()\n",
    "    syn2 = scn.Synth(\"s2\", {\"freq\": 1000, \"amp\": 0.1})\n",
    "    bundler.wait(1.0)\n",
    "    syn2.free()\n",
    "    rec.stop()"
   ]
  },
  {
   "cell_type": "code",
   "execution_count": null,
   "metadata": {},
   "outputs": [],
   "source": [
    "rec = scn.Recording(path=\"blip.wav\")\n",
    "with scn.Bundler(0.2) as bundler:\n",
    "    rec.start()\n",
    "    sc.server.blip()\n",
    "    bundler.wait(1)\n",
    "    rec.stop()"
   ]
  },
  {
   "cell_type": "markdown",
   "metadata": {},
   "source": [
    "## sclang tests"
   ]
  },
  {
   "cell_type": "markdown",
   "metadata": {},
   "source": [
    "### convert_to_sc tests"
   ]
  },
  {
   "cell_type": "code",
   "execution_count": null,
   "metadata": {},
   "outputs": [],
   "source": [
    "python_list = [1,2,3,4]\n",
    "assert \"Array\" in sc.lang.cmd(\"\"\"^python_list.class\"\"\", get_output=True), \"conversion failed\""
   ]
  },
  {
   "cell_type": "code",
   "execution_count": null,
   "metadata": {},
   "outputs": [],
   "source": [
    "np_array = np.array([1,2,3,4])\n",
    "assert \"Array\" in sc.lang.cmd(\"\"\"^np_array.class\"\"\", get_output=True), \"conversion failed\""
   ]
  },
  {
   "cell_type": "markdown",
   "metadata": {},
   "source": [
    "### cmdg tests"
   ]
  },
  {
   "cell_type": "code",
   "execution_count": null,
   "metadata": {},
   "outputs": [],
   "source": [
    "a = 1234\n",
    "b = 23452\n",
    "sc_val = sc.lang.cmdg(\"\"\"^a+^b\"\"\")\n",
    "assert type(sc_val) == int, \"conversion failed\"\n",
    "assert sc_val == a+b, \"value mismatch\""
   ]
  },
  {
   "cell_type": "code",
   "execution_count": null,
   "metadata": {},
   "outputs": [],
   "source": [
    "sc_val = sc.lang.cmdg(\"\"\"1234.5.squared\"\"\")\n",
    "assert type(sc_val) == float, \"conversion failed\"\n",
    "assert sc_val == 1234.5**2, \"value mismatch\""
   ]
  },
  {
   "cell_type": "code",
   "execution_count": null,
   "metadata": {},
   "outputs": [],
   "source": [
    "sc_val = sc.lang.cmdg('''\"soni\"++\"fication\"''')\n",
    "assert type(sc_val) == str, \"conversion failed\"\n",
    "assert sc_val == \"soni\"+\"fication\", \"value mismatch\""
   ]
  },
  {
   "cell_type": "code",
   "execution_count": null,
   "metadata": {},
   "outputs": [],
   "source": [
    "sc_val = sc.lang.cmdg(\"\"\"(1,1.1..2)\"\"\")\n",
    "assert type(sc_val) == list, \"conversion failed\"\n",
    "assert np.allclose(sc_val, np.arange(1.0,2.0,0.1)), \"value mismatch\""
   ]
  },
  {
   "cell_type": "code",
   "execution_count": null,
   "metadata": {},
   "outputs": [],
   "source": [
    "pylist = [[1]]\n",
    "sc_val = sc.lang.cmdg(f\"\"\"{pylist.__repr__()}\"\"\")\n",
    "assert type(sc_val) == list, \"conversion failed\"\n",
    "assert sc_val == pylist, \"value mismatch\""
   ]
  },
  {
   "cell_type": "code",
   "execution_count": null,
   "metadata": {},
   "outputs": [],
   "source": [
    "pylist = [[[1]]]\n",
    "sc_val = sc.lang.cmdg(f\"\"\"{pylist.__repr__()}\"\"\")\n",
    "assert type(sc_val) == list, \"conversion failed\"\n",
    "assert sc_val == pylist, \"value mismatch\" "
   ]
  },
  {
   "cell_type": "code",
   "execution_count": null,
   "metadata": {},
   "outputs": [],
   "source": [
    "pylist = [[1],[1]]\n",
    "sc_val = sc.lang.cmdg(f\"\"\"{pylist.__repr__()}\"\"\")\n",
    "assert type(sc_val) == list, \"conversion failed\"\n",
    "assert sc_val == pylist, \"value mismatch\" "
   ]
  },
  {
   "cell_type": "code",
   "execution_count": null,
   "metadata": {},
   "outputs": [],
   "source": [
    "pylist = [[1.0, 1.0],\n",
    " [1.100000023841858, 1.100000023841858],\n",
    " [1.2000000476837158, 1.2000000476837158],\n",
    " [1.2999999523162842, 1.2999999523162842],\n",
    " [1.399999976158142, 1.399999976158142],\n",
    " [1.5, 1.5],\n",
    " [1.600000023841858, 1.600000023841858],\n",
    " [1.7000000476837158, 1.7000000476837158],\n",
    " [1.7999999523162842, 1.7999999523162842],\n",
    " [1.899999976158142, 1.899999976158142]]\n",
    "sc_val = sc.lang.cmdg(f\"\"\"{pylist.__repr__()}\"\"\")\n",
    "assert type(sc_val) == list, \"conversion failed\"\n",
    "assert sc_val == pylist, \"value mismatch\" "
   ]
  },
  {
   "cell_type": "code",
   "execution_count": null,
   "metadata": {},
   "outputs": [],
   "source": [
    "expected_controls = [['out', 'scalar', 0.0],\n",
    " ['freq', 'control', 440.0],\n",
    " ['amp', 'control', 0.10000000149011612],\n",
    " ['pan', 'control', 0.0],\n",
    " ['gate', 'control', 1.0]]\n",
    "controls = sc.lang.cmdg(r\"SynthDescLib.global['default'].controls.collect({ arg control; [control.name.asString, control.rate.asString, control.defaultValue]})\")\n",
    "assert controls == expected_controls, \"controls mismatch\""
   ]
  },
  {
   "cell_type": "markdown",
   "metadata": {},
   "source": [
    "## SCServer tests"
   ]
  },
  {
   "cell_type": "markdown",
   "metadata": {},
   "source": [
    "### start with already used port"
   ]
  },
  {
   "cell_type": "code",
   "execution_count": null,
   "metadata": {},
   "outputs": [],
   "source": [
    "scn.SC.default = None  # force startup to init SC again\n",
    "# startup with same port to enforce double port usage\n",
    "try:\n",
    "    sc = scn.startup(scsynth_options=scn.ServerOptions(udp_port=TEST_PORT)) \n",
    "except ValueError as error:\n",
    "    assert \"already used\" in str(error)"
   ]
  },
  {
   "cell_type": "code",
   "execution_count": null,
   "metadata": {},
   "outputs": [],
   "source": [
    "sc.exit()\n",
    "del sc"
   ]
  },
  {
   "cell_type": "code",
   "execution_count": null,
   "metadata": {},
   "outputs": [],
   "source": [
    "sc = scn.startup()"
   ]
  },
  {
   "cell_type": "markdown",
   "metadata": {},
   "source": [
    "## Bugs"
   ]
  },
  {
   "cell_type": "markdown",
   "metadata": {},
   "source": [
    "### **BUG** bundle nesting"
   ]
  },
  {
   "cell_type": "code",
   "execution_count": null,
   "metadata": {},
   "outputs": [],
   "source": [
    "from pythonosc.osc_bundle_builder import OscBundleBuilder\n",
    "from pythonosc.osc_bundle import OscBundle"
   ]
  },
  {
   "cell_type": "code",
   "execution_count": null,
   "metadata": {},
   "outputs": [],
   "source": [
    "bundle = scn.Bundler(0).add(0, \"/s_new\", [\"s1\", 3333, 0, 1]).add(2, \"/n_free\", 4444).build()\n",
    "assert isinstance(bundle, OscBundle)"
   ]
  },
  {
   "cell_type": "code",
   "execution_count": null,
   "metadata": {},
   "outputs": [],
   "source": [
    "builder = OscBundleBuilder(0)\n",
    "msg_new = scn.build_message(\"/s_new\", [\"s2\", 4444, 0, 1, \"freq\", 1000, \"num\", 2])\n",
    "builder.add_content(msg_new)\n",
    "builder.add_content(bundle)\n",
    "sc.server.send(builder.build())\n",
    "\n",
    "# Bug description: s_new nodeid 4444 will not be created, version.reply will be received from scsynth."
   ]
  },
  {
   "cell_type": "markdown",
   "metadata": {},
   "source": [
    "### **BUG** stdin write sometimes skips a command when no sleep (on windows)"
   ]
  },
  {
   "cell_type": "code",
   "execution_count": null,
   "metadata": {},
   "outputs": [],
   "source": [
    "%sc x = Synth.new(\\s2, [\\freq, 100])\n",
    "time.sleep(0.001)\n",
    "%sc x.free"
   ]
  },
  {
   "cell_type": "code",
   "execution_count": null,
   "metadata": {},
   "outputs": [],
   "source": [
    "%sc x = Synth.new(\\s2, [\\freq, 100])\n",
    "%sc x.free"
   ]
  },
  {
   "cell_type": "code",
   "execution_count": null,
   "metadata": {},
   "outputs": [],
   "source": [
    "sc.server.free_all()\n",
    "%sc s.freeAll"
   ]
  },
  {
   "cell_type": "code",
   "execution_count": null,
   "metadata": {},
   "outputs": [],
   "source": [
    "%sc x = \"toast\".scramble\n",
    "time.sleep(0.0001)\n",
    "%scg x"
   ]
  },
  {
   "cell_type": "code",
   "execution_count": null,
   "metadata": {},
   "outputs": [],
   "source": []
  }
 ],
 "metadata": {
  "kernelspec": {
   "display_name": "Python [conda env:soni]",
   "language": "python",
   "name": "conda-env-soni-py"
  },
  "language_info": {
   "codemirror_mode": {
    "name": "ipython",
    "version": 3
   },
   "file_extension": ".py",
   "mimetype": "text/x-python",
   "name": "python",
   "nbconvert_exporter": "python",
   "pygments_lexer": "ipython3",
   "version": "3.7.9"
  }
 },
 "nbformat": 4,
 "nbformat_minor": 4
}
